{
 "cells": [
  {
   "cell_type": "markdown",
   "id": "9224252b-59a4-47da-b37d-0563fe4abf26",
   "metadata": {},
   "source": [
    "## Most Impactful Statistics via Borutashap"
   ]
  },
  {
   "cell_type": "markdown",
   "id": "0fab59ab-9cac-46e1-9554-d479b0850aa1",
   "metadata": {},
   "source": [
    "C: FG Attempted, 2Pts Attempted, 2Pt %, Avg Blk, FG %\n",
    "\n",
    "PG: FG%, 2PT%, TOV, 2PTs Attempted, Avg PTS/Assists\n",
    "\n",
    "PF: Avg Assists, Avg Free Throws Attempted, Avg 2Pts Attempted, Avg ORB, Avg 2P\n",
    "\n",
    "SF: FG%, Avg PF, Avg DRB, Avg Assists, Avg 2Pts Attempted\n",
    "\n",
    "SG: Avg FG%, Avg 2Pts Attempted, Avg 2PT%, Avg FG%, Avg FG Attempted"
   ]
  },
  {
   "cell_type": "code",
   "execution_count": null,
   "id": "4e40cdb0-555f-4012-8f90-2b582af96268",
   "metadata": {},
   "outputs": [],
   "source": []
  }
 ],
 "metadata": {
  "kernelspec": {
   "display_name": "Julia (IAI) 1.9.2",
   "language": "julia",
   "name": "julia-_iai_-1.9"
  },
  "language_info": {
   "file_extension": ".jl",
   "mimetype": "application/julia",
   "name": "julia",
   "version": "1.9.2"
  }
 },
 "nbformat": 4,
 "nbformat_minor": 5
}
