{
 "cells": [
  {
   "cell_type": "markdown",
   "id": "b143eed1-48e3-4137-91a8-8a8834d18839",
   "metadata": {},
   "source": [
    "# Read in data and stuff"
   ]
  },
  {
   "cell_type": "code",
   "execution_count": 221,
   "id": "8fc8c235-13b2-4eb5-ba86-cabeb2dbd16b",
   "metadata": {},
   "outputs": [],
   "source": [
    "using CSV, Tables, LinearAlgebra, Random, Gurobi, JuMP, DataFrames, CategoricalArrays, Statistics"
   ]
  },
  {
   "cell_type": "code",
   "execution_count": 253,
   "id": "2d6c6dd5-24c4-4fe9-8552-15d26f3f1247",
   "metadata": {},
   "outputs": [],
   "source": [
    "data = CSV.read(\"OneHotData.csv\", DataFrame, pool=true)[:,2:end];"
   ]
  },
  {
   "cell_type": "code",
   "execution_count": 246,
   "id": "eb1bee52-9f76-4d78-a064-22733c89760e",
   "metadata": {},
   "outputs": [
    {
     "data": {
      "text/plain": [
       "convertString! (generic function with 1 method)"
      ]
     },
     "execution_count": 246,
     "metadata": {},
     "output_type": "execute_result"
    }
   ],
   "source": [
    "# Function to convert string columns to categorical\n",
    "function convertString!(data)\n",
    "    for col in names(data)\n",
    "        if eltype(data[!, col]) == String7\n",
    "            data[!, col] = parse.(Float64, data[!, col])\n",
    "        end\n",
    "    end\n",
    "end"
   ]
  },
  {
   "cell_type": "code",
   "execution_count": 254,
   "id": "0b3ff873-12b9-483b-9352-8c21d4894620",
   "metadata": {},
   "outputs": [
    {
     "data": {
      "text/html": [
       "<div><div style = \"float: left;\"><span>433×57 DataFrame</span></div><div style = \"float: right;\"><span style = \"font-style: italic;\">408 rows omitted</span></div><div style = \"clear: both;\"></div></div><div class = \"data-frame\" style = \"overflow-x: scroll;\"><table class = \"data-frame\" style = \"margin-bottom: 6px;\"><thead><tr class = \"header\"><th class = \"rowNumber\" style = \"font-weight: bold; text-align: right;\">Row</th><th style = \"text-align: left;\">Salary</th><th style = \"text-align: left;\">Position_C</th><th style = \"text-align: left;\">Position_PF</th><th style = \"text-align: left;\">Position_PG</th><th style = \"text-align: left;\">Position_PG-SG</th><th style = \"text-align: left;\">Position_SF</th><th style = \"text-align: left;\">Position_SF-PF</th><th style = \"text-align: left;\">Position_SF-SG</th><th style = \"text-align: left;\">Position_SG</th><th style = \"text-align: left;\">Position_SG-PG</th><th style = \"text-align: left;\">Age</th><th style = \"text-align: left;\">GP</th><th style = \"text-align: left;\">GS</th><th style = \"text-align: left;\">MP</th><th style = \"text-align: left;\">FG</th><th style = \"text-align: left;\">FGA</th><th style = \"text-align: left;\">FG.</th><th style = \"text-align: left;\">X3P</th><th style = \"text-align: left;\">X3PA</th><th style = \"text-align: left;\">X3P.</th><th style = \"text-align: left;\">X2P</th><th style = \"text-align: left;\">X2PA</th><th style = \"text-align: left;\">X2P.</th><th style = \"text-align: left;\">eFG.</th><th style = \"text-align: left;\">FT</th><th style = \"text-align: left;\">FTA</th><th style = \"text-align: left;\">FT.</th><th style = \"text-align: left;\">ORB</th><th style = \"text-align: left;\">DRB</th><th style = \"text-align: left;\">TRB</th><th style = \"text-align: left;\">AST</th><th style = \"text-align: left;\">STL</th><th style = \"text-align: left;\">BLK</th><th style = \"text-align: left;\">TOV</th><th style = \"text-align: left;\">PF</th><th style = \"text-align: left;\">PTS</th><th style = \"text-align: left;\">Total.Minutes</th><th style = \"text-align: left;\">PER</th><th style = \"text-align: left;\">TS.</th><th style = \"text-align: left;\">X3PAr</th><th style = \"text-align: left;\">FTr</th><th style = \"text-align: left;\">ORB.</th><th style = \"text-align: left;\">DRB.</th><th style = \"text-align: left;\">TRB.</th><th style = \"text-align: left;\">AST.</th><th style = \"text-align: left;\">STL.</th><th style = \"text-align: left;\">BLK.</th><th style = \"text-align: left;\">TOV.</th><th style = \"text-align: left;\">USG.</th><th style = \"text-align: left;\">OWS</th><th style = \"text-align: left;\">DWS</th><th style = \"text-align: left;\">WS</th><th style = \"text-align: left;\">WS.48</th><th style = \"text-align: left;\">OBPM</th><th style = \"text-align: left;\">DBPM</th><th style = \"text-align: left;\">BPM</th><th style = \"text-align: left;\">VORP</th></tr><tr class = \"subheader headerLastRow\"><th class = \"rowNumber\" style = \"font-weight: bold; text-align: right;\"></th><th title = \"Int64\" style = \"text-align: left;\">Int64</th><th title = \"Int64\" style = \"text-align: left;\">Int64</th><th title = \"Int64\" style = \"text-align: left;\">Int64</th><th title = \"Int64\" style = \"text-align: left;\">Int64</th><th title = \"Int64\" style = \"text-align: left;\">Int64</th><th title = \"Int64\" style = \"text-align: left;\">Int64</th><th title = \"Int64\" style = \"text-align: left;\">Int64</th><th title = \"Int64\" style = \"text-align: left;\">Int64</th><th title = \"Int64\" style = \"text-align: left;\">Int64</th><th title = \"Int64\" style = \"text-align: left;\">Int64</th><th title = \"Int64\" style = \"text-align: left;\">Int64</th><th title = \"Int64\" style = \"text-align: left;\">Int64</th><th title = \"Int64\" style = \"text-align: left;\">Int64</th><th title = \"Float64\" style = \"text-align: left;\">Float64</th><th title = \"Float64\" style = \"text-align: left;\">Float64</th><th title = \"Float64\" style = \"text-align: left;\">Float64</th><th title = \"Float64\" style = \"text-align: left;\">Float64</th><th title = \"Float64\" style = \"text-align: left;\">Float64</th><th title = \"Float64\" style = \"text-align: left;\">Float64</th><th title = \"Float64\" style = \"text-align: left;\">Float64</th><th title = \"Float64\" style = \"text-align: left;\">Float64</th><th title = \"Float64\" style = \"text-align: left;\">Float64</th><th title = \"Float64\" style = \"text-align: left;\">Float64</th><th title = \"Float64\" style = \"text-align: left;\">Float64</th><th title = \"Float64\" style = \"text-align: left;\">Float64</th><th title = \"Float64\" style = \"text-align: left;\">Float64</th><th title = \"Float64\" style = \"text-align: left;\">Float64</th><th title = \"Float64\" style = \"text-align: left;\">Float64</th><th title = \"Float64\" style = \"text-align: left;\">Float64</th><th title = \"Float64\" style = \"text-align: left;\">Float64</th><th title = \"Float64\" style = \"text-align: left;\">Float64</th><th title = \"Float64\" style = \"text-align: left;\">Float64</th><th title = \"Float64\" style = \"text-align: left;\">Float64</th><th title = \"Float64\" style = \"text-align: left;\">Float64</th><th title = \"Float64\" style = \"text-align: left;\">Float64</th><th title = \"Float64\" style = \"text-align: left;\">Float64</th><th title = \"Int64\" style = \"text-align: left;\">Int64</th><th title = \"Float64\" style = \"text-align: left;\">Float64</th><th title = \"Float64\" style = \"text-align: left;\">Float64</th><th title = \"Float64\" style = \"text-align: left;\">Float64</th><th title = \"Float64\" style = \"text-align: left;\">Float64</th><th title = \"Float64\" style = \"text-align: left;\">Float64</th><th title = \"Float64\" style = \"text-align: left;\">Float64</th><th title = \"Float64\" style = \"text-align: left;\">Float64</th><th title = \"Float64\" style = \"text-align: left;\">Float64</th><th title = \"Float64\" style = \"text-align: left;\">Float64</th><th title = \"Float64\" style = \"text-align: left;\">Float64</th><th title = \"Float64\" style = \"text-align: left;\">Float64</th><th title = \"Float64\" style = \"text-align: left;\">Float64</th><th title = \"Float64\" style = \"text-align: left;\">Float64</th><th title = \"Float64\" style = \"text-align: left;\">Float64</th><th title = \"Float64\" style = \"text-align: left;\">Float64</th><th title = \"Float64\" style = \"text-align: left;\">Float64</th><th title = \"Float64\" style = \"text-align: left;\">Float64</th><th title = \"Float64\" style = \"text-align: left;\">Float64</th><th title = \"Float64\" style = \"text-align: left;\">Float64</th><th title = \"Float64\" style = \"text-align: left;\">Float64</th></tr></thead><tbody><tr><td class = \"rowNumber\" style = \"font-weight: bold; text-align: right;\">1</td><td style = \"text-align: right;\">48070014</td><td style = \"text-align: right;\">0</td><td style = \"text-align: right;\">0</td><td style = \"text-align: right;\">1</td><td style = \"text-align: right;\">0</td><td style = \"text-align: right;\">0</td><td style = \"text-align: right;\">0</td><td style = \"text-align: right;\">0</td><td style = \"text-align: right;\">0</td><td style = \"text-align: right;\">0</td><td style = \"text-align: right;\">34</td><td style = \"text-align: right;\">56</td><td style = \"text-align: right;\">56</td><td style = \"text-align: right;\">34.7</td><td style = \"text-align: right;\">10.0</td><td style = \"text-align: right;\">20.2</td><td style = \"text-align: right;\">0.493</td><td style = \"text-align: right;\">4.9</td><td style = \"text-align: right;\">11.4</td><td style = \"text-align: right;\">0.427</td><td style = \"text-align: right;\">5.1</td><td style = \"text-align: right;\">8.8</td><td style = \"text-align: right;\">0.579</td><td style = \"text-align: right;\">0.614</td><td style = \"text-align: right;\">4.6</td><td style = \"text-align: right;\">5.0</td><td style = \"text-align: right;\">0.915</td><td style = \"text-align: right;\">0.7</td><td style = \"text-align: right;\">5.4</td><td style = \"text-align: right;\">6.1</td><td style = \"text-align: right;\">6.3</td><td style = \"text-align: right;\">0.9</td><td style = \"text-align: right;\">0.4</td><td style = \"text-align: right;\">3.2</td><td style = \"text-align: right;\">2.1</td><td style = \"text-align: right;\">29.4</td><td style = \"text-align: right;\">1941</td><td style = \"text-align: right;\">24.1</td><td style = \"text-align: right;\">0.656</td><td style = \"text-align: right;\">0.564</td><td style = \"text-align: right;\">0.248</td><td style = \"text-align: right;\">2.3</td><td style = \"text-align: right;\">16.8</td><td style = \"text-align: right;\">9.7</td><td style = \"text-align: right;\">30.0</td><td style = \"text-align: right;\">1.3</td><td style = \"text-align: right;\">0.9</td><td style = \"text-align: right;\">12.5</td><td style = \"text-align: right;\">31.0</td><td style = \"text-align: right;\">5.8</td><td style = \"text-align: right;\">2.0</td><td style = \"text-align: right;\">7.8</td><td style = \"text-align: right;\">0.192</td><td style = \"text-align: right;\">7.5</td><td style = \"text-align: right;\">0.1</td><td style = \"text-align: right;\">7.5</td><td style = \"text-align: right;\">4.7</td></tr><tr><td class = \"rowNumber\" style = \"font-weight: bold; text-align: right;\">2</td><td style = \"text-align: right;\">47345760</td><td style = \"text-align: right;\">0</td><td style = \"text-align: right;\">0</td><td style = \"text-align: right;\">1</td><td style = \"text-align: right;\">0</td><td style = \"text-align: right;\">0</td><td style = \"text-align: right;\">0</td><td style = \"text-align: right;\">0</td><td style = \"text-align: right;\">0</td><td style = \"text-align: right;\">0</td><td style = \"text-align: right;\">32</td><td style = \"text-align: right;\">34</td><td style = \"text-align: right;\">3</td><td style = \"text-align: right;\">22.2</td><td style = \"text-align: right;\">4.1</td><td style = \"text-align: right;\">9.9</td><td style = \"text-align: right;\">0.408</td><td style = \"text-align: right;\">1.0</td><td style = \"text-align: right;\">3.2</td><td style = \"text-align: right;\">0.303</td><td style = \"text-align: right;\">3.1</td><td style = \"text-align: right;\">6.7</td><td style = \"text-align: right;\">0.459</td><td style = \"text-align: right;\">0.457</td><td style = \"text-align: right;\">2.3</td><td style = \"text-align: right;\">3.3</td><td style = \"text-align: right;\">0.681</td><td style = \"text-align: right;\">0.4</td><td style = \"text-align: right;\">2.3</td><td style = \"text-align: right;\">2.7</td><td style = \"text-align: right;\">5.2</td><td style = \"text-align: right;\">0.8</td><td style = \"text-align: right;\">0.4</td><td style = \"text-align: right;\">2.4</td><td style = \"text-align: right;\">1.7</td><td style = \"text-align: right;\">11.4</td><td style = \"text-align: right;\">755</td><td style = \"text-align: right;\">13.6</td><td style = \"text-align: right;\">0.498</td><td style = \"text-align: right;\">0.322</td><td style = \"text-align: right;\">0.334</td><td style = \"text-align: right;\">2.1</td><td style = \"text-align: right;\">11.4</td><td style = \"text-align: right;\">6.8</td><td style = \"text-align: right;\">35.3</td><td style = \"text-align: right;\">1.8</td><td style = \"text-align: right;\">1.4</td><td style = \"text-align: right;\">17.1</td><td style = \"text-align: right;\">27.0</td><td style = \"text-align: right;\">-0.4</td><td style = \"text-align: right;\">0.7</td><td style = \"text-align: right;\">0.3</td><td style = \"text-align: right;\">0.02</td><td style = \"text-align: right;\">-0.8</td><td style = \"text-align: right;\">-0.4</td><td style = \"text-align: right;\">-1.2</td><td style = \"text-align: right;\">0.1</td></tr><tr><td class = \"rowNumber\" style = \"font-weight: bold; text-align: right;\">3</td><td style = \"text-align: right;\">47080179</td><td style = \"text-align: right;\">0</td><td style = \"text-align: right;\">0</td><td style = \"text-align: right;\">1</td><td style = \"text-align: right;\">0</td><td style = \"text-align: right;\">0</td><td style = \"text-align: right;\">0</td><td style = \"text-align: right;\">0</td><td style = \"text-align: right;\">0</td><td style = \"text-align: right;\">0</td><td style = \"text-align: right;\">34</td><td style = \"text-align: right;\">73</td><td style = \"text-align: right;\">24</td><td style = \"text-align: right;\">29.1</td><td style = \"text-align: right;\">5.9</td><td style = \"text-align: right;\">13.6</td><td style = \"text-align: right;\">0.436</td><td style = \"text-align: right;\">1.2</td><td style = \"text-align: right;\">3.9</td><td style = \"text-align: right;\">0.311</td><td style = \"text-align: right;\">4.7</td><td style = \"text-align: right;\">9.7</td><td style = \"text-align: right;\">0.487</td><td style = \"text-align: right;\">0.481</td><td style = \"text-align: right;\">2.8</td><td style = \"text-align: right;\">4.3</td><td style = \"text-align: right;\">0.656</td><td style = \"text-align: right;\">1.2</td><td style = \"text-align: right;\">4.6</td><td style = \"text-align: right;\">5.8</td><td style = \"text-align: right;\">7.5</td><td style = \"text-align: right;\">1.0</td><td style = \"text-align: right;\">0.5</td><td style = \"text-align: right;\">3.5</td><td style = \"text-align: right;\">2.2</td><td style = \"text-align: right;\">15.9</td><td style = \"text-align: right;\">2126</td><td style = \"text-align: right;\">16.1</td><td style = \"text-align: right;\">0.513</td><td style = \"text-align: right;\">0.289</td><td style = \"text-align: right;\">0.317</td><td style = \"text-align: right;\">4.7</td><td style = \"text-align: right;\">16.5</td><td style = \"text-align: right;\">10.8</td><td style = \"text-align: right;\">38.6</td><td style = \"text-align: right;\">1.7</td><td style = \"text-align: right;\">1.3</td><td style = \"text-align: right;\">18.4</td><td style = \"text-align: right;\">27.7</td><td style = \"text-align: right;\">-0.6</td><td style = \"text-align: right;\">2.6</td><td style = \"text-align: right;\">1.9</td><td style = \"text-align: right;\">0.044</td><td style = \"text-align: right;\">0.3</td><td style = \"text-align: right;\">-0.1</td><td style = \"text-align: right;\">0.2</td><td style = \"text-align: right;\">1.2</td></tr><tr><td class = \"rowNumber\" style = \"font-weight: bold; text-align: right;\">4</td><td style = \"text-align: right;\">44474988</td><td style = \"text-align: right;\">0</td><td style = \"text-align: right;\">1</td><td style = \"text-align: right;\">0</td><td style = \"text-align: right;\">0</td><td style = \"text-align: right;\">0</td><td style = \"text-align: right;\">0</td><td style = \"text-align: right;\">0</td><td style = \"text-align: right;\">0</td><td style = \"text-align: right;\">0</td><td style = \"text-align: right;\">38</td><td style = \"text-align: right;\">55</td><td style = \"text-align: right;\">54</td><td style = \"text-align: right;\">35.5</td><td style = \"text-align: right;\">11.1</td><td style = \"text-align: right;\">22.2</td><td style = \"text-align: right;\">0.5</td><td style = \"text-align: right;\">2.2</td><td style = \"text-align: right;\">6.9</td><td style = \"text-align: right;\">0.321</td><td style = \"text-align: right;\">8.9</td><td style = \"text-align: right;\">15.3</td><td style = \"text-align: right;\">0.58</td><td style = \"text-align: right;\">0.549</td><td style = \"text-align: right;\">4.6</td><td style = \"text-align: right;\">5.9</td><td style = \"text-align: right;\">0.768</td><td style = \"text-align: right;\">1.2</td><td style = \"text-align: right;\">7.1</td><td style = \"text-align: right;\">8.3</td><td style = \"text-align: right;\">6.8</td><td style = \"text-align: right;\">0.9</td><td style = \"text-align: right;\">0.6</td><td style = \"text-align: right;\">3.2</td><td style = \"text-align: right;\">1.6</td><td style = \"text-align: right;\">28.9</td><td style = \"text-align: right;\">1954</td><td style = \"text-align: right;\">23.9</td><td style = \"text-align: right;\">0.583</td><td style = \"text-align: right;\">0.309</td><td style = \"text-align: right;\">0.268</td><td style = \"text-align: right;\">3.7</td><td style = \"text-align: right;\">20.8</td><td style = \"text-align: right;\">12.5</td><td style = \"text-align: right;\">33.5</td><td style = \"text-align: right;\">1.2</td><td style = \"text-align: right;\">1.4</td><td style = \"text-align: right;\">11.6</td><td style = \"text-align: right;\">33.3</td><td style = \"text-align: right;\">3.2</td><td style = \"text-align: right;\">2.4</td><td style = \"text-align: right;\">5.6</td><td style = \"text-align: right;\">0.138</td><td style = \"text-align: right;\">5.5</td><td style = \"text-align: right;\">0.6</td><td style = \"text-align: right;\">6.1</td><td style = \"text-align: right;\">4.0</td></tr><tr><td class = \"rowNumber\" style = \"font-weight: bold; text-align: right;\">5</td><td style = \"text-align: right;\">44119845</td><td style = \"text-align: right;\">0</td><td style = \"text-align: right;\">1</td><td style = \"text-align: right;\">0</td><td style = \"text-align: right;\">0</td><td style = \"text-align: right;\">0</td><td style = \"text-align: right;\">0</td><td style = \"text-align: right;\">0</td><td style = \"text-align: right;\">0</td><td style = \"text-align: right;\">0</td><td style = \"text-align: right;\">34</td><td style = \"text-align: right;\">47</td><td style = \"text-align: right;\">47</td><td style = \"text-align: right;\">35.6</td><td style = \"text-align: right;\">10.3</td><td style = \"text-align: right;\">18.3</td><td style = \"text-align: right;\">0.56</td><td style = \"text-align: right;\">2.0</td><td style = \"text-align: right;\">4.9</td><td style = \"text-align: right;\">0.404</td><td style = \"text-align: right;\">8.3</td><td style = \"text-align: right;\">13.4</td><td style = \"text-align: right;\">0.617</td><td style = \"text-align: right;\">0.614</td><td style = \"text-align: right;\">6.5</td><td style = \"text-align: right;\">7.1</td><td style = \"text-align: right;\">0.919</td><td style = \"text-align: right;\">0.4</td><td style = \"text-align: right;\">6.3</td><td style = \"text-align: right;\">6.7</td><td style = \"text-align: right;\">5.0</td><td style = \"text-align: right;\">0.7</td><td style = \"text-align: right;\">1.4</td><td style = \"text-align: right;\">3.3</td><td style = \"text-align: right;\">2.1</td><td style = \"text-align: right;\">29.1</td><td style = \"text-align: right;\">1672</td><td style = \"text-align: right;\">25.9</td><td style = \"text-align: right;\">0.677</td><td style = \"text-align: right;\">0.267</td><td style = \"text-align: right;\">0.387</td><td style = \"text-align: right;\">1.2</td><td style = \"text-align: right;\">19.5</td><td style = \"text-align: right;\">10.5</td><td style = \"text-align: right;\">24.5</td><td style = \"text-align: right;\">1.0</td><td style = \"text-align: right;\">3.4</td><td style = \"text-align: right;\">13.4</td><td style = \"text-align: right;\">30.7</td><td style = \"text-align: right;\">4.7</td><td style = \"text-align: right;\">2.1</td><td style = \"text-align: right;\">6.8</td><td style = \"text-align: right;\">0.194</td><td style = \"text-align: right;\">6.0</td><td style = \"text-align: right;\">1.2</td><td style = \"text-align: right;\">7.1</td><td style = \"text-align: right;\">3.9</td></tr><tr><td class = \"rowNumber\" style = \"font-weight: bold; text-align: right;\">6</td><td style = \"text-align: right;\">43279250</td><td style = \"text-align: right;\">0</td><td style = \"text-align: right;\">0</td><td style = \"text-align: right;\">0</td><td style = \"text-align: right;\">0</td><td style = \"text-align: right;\">0</td><td style = \"text-align: right;\">0</td><td style = \"text-align: right;\">0</td><td style = \"text-align: right;\">1</td><td style = \"text-align: right;\">0</td><td style = \"text-align: right;\">29</td><td style = \"text-align: right;\">50</td><td style = \"text-align: right;\">50</td><td style = \"text-align: right;\">33.5</td><td style = \"text-align: right;\">8.9</td><td style = \"text-align: right;\">17.6</td><td style = \"text-align: right;\">0.506</td><td style = \"text-align: right;\">1.6</td><td style = \"text-align: right;\">4.4</td><td style = \"text-align: right;\">0.365</td><td style = \"text-align: right;\">7.3</td><td style = \"text-align: right;\">13.2</td><td style = \"text-align: right;\">0.552</td><td style = \"text-align: right;\">0.551</td><td style = \"text-align: right;\">3.8</td><td style = \"text-align: right;\">4.6</td><td style = \"text-align: right;\">0.842</td><td style = \"text-align: right;\">0.8</td><td style = \"text-align: right;\">3.1</td><td style = \"text-align: right;\">3.9</td><td style = \"text-align: right;\">5.4</td><td style = \"text-align: right;\">0.9</td><td style = \"text-align: right;\">0.7</td><td style = \"text-align: right;\">2.9</td><td style = \"text-align: right;\">2.1</td><td style = \"text-align: right;\">23.2</td><td style = \"text-align: right;\">1673</td><td style = \"text-align: right;\">19.7</td><td style = \"text-align: right;\">0.593</td><td style = \"text-align: right;\">0.249</td><td style = \"text-align: right;\">0.26</td><td style = \"text-align: right;\">2.8</td><td style = \"text-align: right;\">9.9</td><td style = \"text-align: right;\">6.5</td><td style = \"text-align: right;\">26.6</td><td style = \"text-align: right;\">1.3</td><td style = \"text-align: right;\">1.7</td><td style = \"text-align: right;\">12.9</td><td style = \"text-align: right;\">29.2</td><td style = \"text-align: right;\">2.2</td><td style = \"text-align: right;\">1.2</td><td style = \"text-align: right;\">3.4</td><td style = \"text-align: right;\">0.099</td><td style = \"text-align: right;\">2.9</td><td style = \"text-align: right;\">-1.2</td><td style = \"text-align: right;\">1.8</td><td style = \"text-align: right;\">1.6</td></tr><tr><td class = \"rowNumber\" style = \"font-weight: bold; text-align: right;\">7</td><td style = \"text-align: right;\">42492492</td><td style = \"text-align: right;\">0</td><td style = \"text-align: right;\">0</td><td style = \"text-align: right;\">0</td><td style = \"text-align: right;\">0</td><td style = \"text-align: right;\">1</td><td style = \"text-align: right;\">0</td><td style = \"text-align: right;\">0</td><td style = \"text-align: right;\">0</td><td style = \"text-align: right;\">0</td><td style = \"text-align: right;\">31</td><td style = \"text-align: right;\">52</td><td style = \"text-align: right;\">50</td><td style = \"text-align: right;\">33.6</td><td style = \"text-align: right;\">8.6</td><td style = \"text-align: right;\">16.8</td><td style = \"text-align: right;\">0.512</td><td style = \"text-align: right;\">2.0</td><td style = \"text-align: right;\">4.8</td><td style = \"text-align: right;\">0.416</td><td style = \"text-align: right;\">6.6</td><td style = \"text-align: right;\">11.9</td><td style = \"text-align: right;\">0.551</td><td style = \"text-align: right;\">0.572</td><td style = \"text-align: right;\">4.7</td><td style = \"text-align: right;\">5.4</td><td style = \"text-align: right;\">0.871</td><td style = \"text-align: right;\">1.1</td><td style = \"text-align: right;\">5.4</td><td style = \"text-align: right;\">6.5</td><td style = \"text-align: right;\">3.9</td><td style = \"text-align: right;\">1.4</td><td style = \"text-align: right;\">0.5</td><td style = \"text-align: right;\">1.7</td><td style = \"text-align: right;\">1.6</td><td style = \"text-align: right;\">23.8</td><td style = \"text-align: right;\">1748</td><td style = \"text-align: right;\">23.9</td><td style = \"text-align: right;\">0.623</td><td style = \"text-align: right;\">0.287</td><td style = \"text-align: right;\">0.32</td><td style = \"text-align: right;\">3.7</td><td style = \"text-align: right;\">17.8</td><td style = \"text-align: right;\">10.8</td><td style = \"text-align: right;\">19.6</td><td style = \"text-align: right;\">2.0</td><td style = \"text-align: right;\">1.4</td><td style = \"text-align: right;\">8.1</td><td style = \"text-align: right;\">27.0</td><td style = \"text-align: right;\">4.9</td><td style = \"text-align: right;\">2.2</td><td style = \"text-align: right;\">7.1</td><td style = \"text-align: right;\">0.194</td><td style = \"text-align: right;\">5.1</td><td style = \"text-align: right;\">0.9</td><td style = \"text-align: right;\">6.1</td><td style = \"text-align: right;\">3.5</td></tr><tr><td class = \"rowNumber\" style = \"font-weight: bold; text-align: right;\">8</td><td style = \"text-align: right;\">42492492</td><td style = \"text-align: right;\">0</td><td style = \"text-align: right;\">0</td><td style = \"text-align: right;\">0</td><td style = \"text-align: right;\">0</td><td style = \"text-align: right;\">1</td><td style = \"text-align: right;\">0</td><td style = \"text-align: right;\">0</td><td style = \"text-align: right;\">0</td><td style = \"text-align: right;\">0</td><td style = \"text-align: right;\">32</td><td style = \"text-align: right;\">56</td><td style = \"text-align: right;\">56</td><td style = \"text-align: right;\">34.6</td><td style = \"text-align: right;\">8.2</td><td style = \"text-align: right;\">17.9</td><td style = \"text-align: right;\">0.457</td><td style = \"text-align: right;\">2.8</td><td style = \"text-align: right;\">7.6</td><td style = \"text-align: right;\">0.371</td><td style = \"text-align: right;\">5.4</td><td style = \"text-align: right;\">10.3</td><td style = \"text-align: right;\">0.521</td><td style = \"text-align: right;\">0.536</td><td style = \"text-align: right;\">4.6</td><td style = \"text-align: right;\">5.3</td><td style = \"text-align: right;\">0.871</td><td style = \"text-align: right;\">0.8</td><td style = \"text-align: right;\">5.3</td><td style = \"text-align: right;\">6.1</td><td style = \"text-align: right;\">5.1</td><td style = \"text-align: right;\">1.5</td><td style = \"text-align: right;\">0.4</td><td style = \"text-align: right;\">3.1</td><td style = \"text-align: right;\">2.8</td><td style = \"text-align: right;\">23.8</td><td style = \"text-align: right;\">1939</td><td style = \"text-align: right;\">19.6</td><td style = \"text-align: right;\">0.588</td><td style = \"text-align: right;\">0.424</td><td style = \"text-align: right;\">0.293</td><td style = \"text-align: right;\">2.6</td><td style = \"text-align: right;\">17.0</td><td style = \"text-align: right;\">9.9</td><td style = \"text-align: right;\">24.2</td><td style = \"text-align: right;\">2.1</td><td style = \"text-align: right;\">0.9</td><td style = \"text-align: right;\">13.4</td><td style = \"text-align: right;\">29.5</td><td style = \"text-align: right;\">2.3</td><td style = \"text-align: right;\">2.3</td><td style = \"text-align: right;\">4.6</td><td style = \"text-align: right;\">0.114</td><td style = \"text-align: right;\">2.4</td><td style = \"text-align: right;\">0.3</td><td style = \"text-align: right;\">2.8</td><td style = \"text-align: right;\">2.3</td></tr><tr><td class = \"rowNumber\" style = \"font-weight: bold; text-align: right;\">9</td><td style = \"text-align: right;\">42492492</td><td style = \"text-align: right;\">0</td><td style = \"text-align: right;\">1</td><td style = \"text-align: right;\">0</td><td style = \"text-align: right;\">0</td><td style = \"text-align: right;\">0</td><td style = \"text-align: right;\">0</td><td style = \"text-align: right;\">0</td><td style = \"text-align: right;\">0</td><td style = \"text-align: right;\">0</td><td style = \"text-align: right;\">28</td><td style = \"text-align: right;\">63</td><td style = \"text-align: right;\">63</td><td style = \"text-align: right;\">32.1</td><td style = \"text-align: right;\">11.2</td><td style = \"text-align: right;\">20.3</td><td style = \"text-align: right;\">0.553</td><td style = \"text-align: right;\">0.7</td><td style = \"text-align: right;\">2.7</td><td style = \"text-align: right;\">0.275</td><td style = \"text-align: right;\">10.5</td><td style = \"text-align: right;\">17.6</td><td style = \"text-align: right;\">0.596</td><td style = \"text-align: right;\">0.572</td><td style = \"text-align: right;\">7.9</td><td style = \"text-align: right;\">12.3</td><td style = \"text-align: right;\">0.645</td><td style = \"text-align: right;\">2.2</td><td style = \"text-align: right;\">9.6</td><td style = \"text-align: right;\">11.8</td><td style = \"text-align: right;\">5.7</td><td style = \"text-align: right;\">0.8</td><td style = \"text-align: right;\">0.8</td><td style = \"text-align: right;\">3.9</td><td style = \"text-align: right;\">3.1</td><td style = \"text-align: right;\">31.1</td><td style = \"text-align: right;\">2024</td><td style = \"text-align: right;\">29.0</td><td style = \"text-align: right;\">0.605</td><td style = \"text-align: right;\">0.134</td><td style = \"text-align: right;\">0.604</td><td style = \"text-align: right;\">7.3</td><td style = \"text-align: right;\">30.0</td><td style = \"text-align: right;\">19.1</td><td style = \"text-align: right;\">33.2</td><td style = \"text-align: right;\">1.2</td><td style = \"text-align: right;\">2.1</td><td style = \"text-align: right;\">13.2</td><td style = \"text-align: right;\">38.8</td><td style = \"text-align: right;\">4.9</td><td style = \"text-align: right;\">3.7</td><td style = \"text-align: right;\">8.6</td><td style = \"text-align: right;\">0.204</td><td style = \"text-align: right;\">5.8</td><td style = \"text-align: right;\">2.7</td><td style = \"text-align: right;\">8.5</td><td style = \"text-align: right;\">5.4</td></tr><tr><td class = \"rowNumber\" style = \"font-weight: bold; text-align: right;\">10</td><td style = \"text-align: right;\">42492492</td><td style = \"text-align: right;\">0</td><td style = \"text-align: right;\">0</td><td style = \"text-align: right;\">1</td><td style = \"text-align: right;\">0</td><td style = \"text-align: right;\">0</td><td style = \"text-align: right;\">0</td><td style = \"text-align: right;\">0</td><td style = \"text-align: right;\">0</td><td style = \"text-align: right;\">0</td><td style = \"text-align: right;\">32</td><td style = \"text-align: right;\">58</td><td style = \"text-align: right;\">58</td><td style = \"text-align: right;\">36.3</td><td style = \"text-align: right;\">9.6</td><td style = \"text-align: right;\">20.7</td><td style = \"text-align: right;\">0.463</td><td style = \"text-align: right;\">4.2</td><td style = \"text-align: right;\">11.3</td><td style = \"text-align: right;\">0.371</td><td style = \"text-align: right;\">5.4</td><td style = \"text-align: right;\">9.4</td><td style = \"text-align: right;\">0.574</td><td style = \"text-align: right;\">0.564</td><td style = \"text-align: right;\">8.8</td><td style = \"text-align: right;\">9.6</td><td style = \"text-align: right;\">0.914</td><td style = \"text-align: right;\">0.8</td><td style = \"text-align: right;\">4.0</td><td style = \"text-align: right;\">4.8</td><td style = \"text-align: right;\">7.3</td><td style = \"text-align: right;\">0.9</td><td style = \"text-align: right;\">0.3</td><td style = \"text-align: right;\">3.3</td><td style = \"text-align: right;\">1.9</td><td style = \"text-align: right;\">32.2</td><td style = \"text-align: right;\">2107</td><td style = \"text-align: right;\">26.7</td><td style = \"text-align: right;\">0.645</td><td style = \"text-align: right;\">0.547</td><td style = \"text-align: right;\">0.464</td><td style = \"text-align: right;\">2.4</td><td style = \"text-align: right;\">12.8</td><td style = \"text-align: right;\">7.6</td><td style = \"text-align: right;\">35.0</td><td style = \"text-align: right;\">1.2</td><td style = \"text-align: right;\">0.8</td><td style = \"text-align: right;\">11.7</td><td style = \"text-align: right;\">33.8</td><td style = \"text-align: right;\">8.2</td><td style = \"text-align: right;\">0.8</td><td style = \"text-align: right;\">9.0</td><td style = \"text-align: right;\">0.205</td><td style = \"text-align: right;\">8.3</td><td style = \"text-align: right;\">-1.2</td><td style = \"text-align: right;\">7.1</td><td style = \"text-align: right;\">4.9</td></tr><tr><td class = \"rowNumber\" style = \"font-weight: bold; text-align: right;\">11</td><td style = \"text-align: right;\">40600080</td><td style = \"text-align: right;\">0</td><td style = \"text-align: right;\">0</td><td style = \"text-align: right;\">0</td><td style = \"text-align: right;\">0</td><td style = \"text-align: right;\">1</td><td style = \"text-align: right;\">0</td><td style = \"text-align: right;\">0</td><td style = \"text-align: right;\">0</td><td style = \"text-align: right;\">0</td><td style = \"text-align: right;\">32</td><td style = \"text-align: right;\">69</td><td style = \"text-align: right;\">69</td><td style = \"text-align: right;\">33.0</td><td style = \"text-align: right;\">7.9</td><td style = \"text-align: right;\">18.1</td><td style = \"text-align: right;\">0.436</td><td style = \"text-align: right;\">4.4</td><td style = \"text-align: right;\">10.6</td><td style = \"text-align: right;\">0.412</td><td style = \"text-align: right;\">3.6</td><td style = \"text-align: right;\">7.6</td><td style = \"text-align: right;\">0.47</td><td style = \"text-align: right;\">0.556</td><td style = \"text-align: right;\">1.7</td><td style = \"text-align: right;\">1.9</td><td style = \"text-align: right;\">0.879</td><td style = \"text-align: right;\">0.6</td><td style = \"text-align: right;\">3.6</td><td style = \"text-align: right;\">4.1</td><td style = \"text-align: right;\">2.4</td><td style = \"text-align: right;\">0.7</td><td style = \"text-align: right;\">0.4</td><td style = \"text-align: right;\">1.8</td><td style = \"text-align: right;\">1.9</td><td style = \"text-align: right;\">21.9</td><td style = \"text-align: right;\">2279</td><td style = \"text-align: right;\">14.7</td><td style = \"text-align: right;\">0.576</td><td style = \"text-align: right;\">0.584</td><td style = \"text-align: right;\">0.105</td><td style = \"text-align: right;\">1.9</td><td style = \"text-align: right;\">11.7</td><td style = \"text-align: right;\">6.9</td><td style = \"text-align: right;\">11.0</td><td style = \"text-align: right;\">1.0</td><td style = \"text-align: right;\">1.1</td><td style = \"text-align: right;\">8.6</td><td style = \"text-align: right;\">26.4</td><td style = \"text-align: right;\">1.2</td><td style = \"text-align: right;\">1.9</td><td style = \"text-align: right;\">3.1</td><td style = \"text-align: right;\">0.066</td><td style = \"text-align: right;\">1.5</td><td style = \"text-align: right;\">-1.7</td><td style = \"text-align: right;\">-0.3</td><td style = \"text-align: right;\">1.0</td></tr><tr><td class = \"rowNumber\" style = \"font-weight: bold; text-align: right;\">12</td><td style = \"text-align: right;\">38917057</td><td style = \"text-align: right;\">0</td><td style = \"text-align: right;\">0</td><td style = \"text-align: right;\">0</td><td style = \"text-align: right;\">1</td><td style = \"text-align: right;\">0</td><td style = \"text-align: right;\">0</td><td style = \"text-align: right;\">0</td><td style = \"text-align: right;\">0</td><td style = \"text-align: right;\">0</td><td style = \"text-align: right;\">30</td><td style = \"text-align: right;\">60</td><td style = \"text-align: right;\">60</td><td style = \"text-align: right;\">37.4</td><td style = \"text-align: right;\">9.9</td><td style = \"text-align: right;\">20.1</td><td style = \"text-align: right;\">0.494</td><td style = \"text-align: right;\">3.1</td><td style = \"text-align: right;\">8.3</td><td style = \"text-align: right;\">0.379</td><td style = \"text-align: right;\">6.8</td><td style = \"text-align: right;\">11.8</td><td style = \"text-align: right;\">0.574</td><td style = \"text-align: right;\">0.572</td><td style = \"text-align: right;\">4.1</td><td style = \"text-align: right;\">4.6</td><td style = \"text-align: right;\">0.905</td><td style = \"text-align: right;\">1.0</td><td style = \"text-align: right;\">4.1</td><td style = \"text-align: right;\">5.1</td><td style = \"text-align: right;\">5.5</td><td style = \"text-align: right;\">1.1</td><td style = \"text-align: right;\">0.8</td><td style = \"text-align: right;\">2.1</td><td style = \"text-align: right;\">2.8</td><td style = \"text-align: right;\">27.1</td><td style = \"text-align: right;\">2241</td><td style = \"text-align: right;\">22.4</td><td style = \"text-align: right;\">0.613</td><td style = \"text-align: right;\">0.412</td><td style = \"text-align: right;\">0.227</td><td style = \"text-align: right;\">3.0</td><td style = \"text-align: right;\">12.3</td><td style = \"text-align: right;\">7.7</td><td style = \"text-align: right;\">25.4</td><td style = \"text-align: right;\">1.4</td><td style = \"text-align: right;\">1.7</td><td style = \"text-align: right;\">8.8</td><td style = \"text-align: right;\">28.9</td><td style = \"text-align: right;\">5.4</td><td style = \"text-align: right;\">2.0</td><td style = \"text-align: right;\">7.4</td><td style = \"text-align: right;\">0.159</td><td style = \"text-align: right;\">4.8</td><td style = \"text-align: right;\">-0.7</td><td style = \"text-align: right;\">4.1</td><td style = \"text-align: right;\">3.5</td></tr><tr><td class = \"rowNumber\" style = \"font-weight: bold; text-align: right;\">13</td><td style = \"text-align: right;\">38172414</td><td style = \"text-align: right;\">1</td><td style = \"text-align: right;\">0</td><td style = \"text-align: right;\">0</td><td style = \"text-align: right;\">0</td><td style = \"text-align: right;\">0</td><td style = \"text-align: right;\">0</td><td style = \"text-align: right;\">0</td><td style = \"text-align: right;\">0</td><td style = \"text-align: right;\">0</td><td style = \"text-align: right;\">30</td><td style = \"text-align: right;\">70</td><td style = \"text-align: right;\">70</td><td style = \"text-align: right;\">30.7</td><td style = \"text-align: right;\">5.1</td><td style = \"text-align: right;\">7.8</td><td style = \"text-align: right;\">0.659</td><td style = \"text-align: right;\">0.0</td><td style = \"text-align: right;\">0.0</td><td style = \"text-align: right;\">0.0</td><td style = \"text-align: right;\">5.1</td><td style = \"text-align: right;\">7.8</td><td style = \"text-align: right;\">0.663</td><td style = \"text-align: right;\">0.659</td><td style = \"text-align: right;\">3.1</td><td style = \"text-align: right;\">4.9</td><td style = \"text-align: right;\">0.644</td><td style = \"text-align: right;\">3.3</td><td style = \"text-align: right;\">8.3</td><td style = \"text-align: right;\">11.6</td><td style = \"text-align: right;\">1.2</td><td style = \"text-align: right;\">0.8</td><td style = \"text-align: right;\">1.4</td><td style = \"text-align: right;\">1.7</td><td style = \"text-align: right;\">3.0</td><td style = \"text-align: right;\">13.4</td><td style = \"text-align: right;\">2148</td><td style = \"text-align: right;\">18.9</td><td style = \"text-align: right;\">0.675</td><td style = \"text-align: right;\">0.005</td><td style = \"text-align: right;\">0.623</td><td style = \"text-align: right;\">12.2</td><td style = \"text-align: right;\">29.8</td><td style = \"text-align: right;\">21.2</td><td style = \"text-align: right;\">5.6</td><td style = \"text-align: right;\">1.2</td><td style = \"text-align: right;\">3.9</td><td style = \"text-align: right;\">14.9</td><td style = \"text-align: right;\">16.3</td><td style = \"text-align: right;\">4.3</td><td style = \"text-align: right;\">3.5</td><td style = \"text-align: right;\">7.8</td><td style = \"text-align: right;\">0.174</td><td style = \"text-align: right;\">0.0</td><td style = \"text-align: right;\">0.7</td><td style = \"text-align: right;\">0.7</td><td style = \"text-align: right;\">1.4</td></tr><tr><td style = \"text-align: right;\">&vellip;</td><td style = \"text-align: right;\">&vellip;</td><td style = \"text-align: right;\">&vellip;</td><td style = \"text-align: right;\">&vellip;</td><td style = \"text-align: right;\">&vellip;</td><td style = \"text-align: right;\">&vellip;</td><td style = \"text-align: right;\">&vellip;</td><td style = \"text-align: right;\">&vellip;</td><td style = \"text-align: right;\">&vellip;</td><td style = \"text-align: right;\">&vellip;</td><td style = \"text-align: right;\">&vellip;</td><td style = \"text-align: right;\">&vellip;</td><td style = \"text-align: right;\">&vellip;</td><td style = \"text-align: right;\">&vellip;</td><td style = \"text-align: right;\">&vellip;</td><td style = \"text-align: right;\">&vellip;</td><td style = \"text-align: right;\">&vellip;</td><td style = \"text-align: right;\">&vellip;</td><td style = \"text-align: right;\">&vellip;</td><td style = \"text-align: right;\">&vellip;</td><td style = \"text-align: right;\">&vellip;</td><td style = \"text-align: right;\">&vellip;</td><td style = \"text-align: right;\">&vellip;</td><td style = \"text-align: right;\">&vellip;</td><td style = \"text-align: right;\">&vellip;</td><td style = \"text-align: right;\">&vellip;</td><td style = \"text-align: right;\">&vellip;</td><td style = \"text-align: right;\">&vellip;</td><td style = \"text-align: right;\">&vellip;</td><td style = \"text-align: right;\">&vellip;</td><td style = \"text-align: right;\">&vellip;</td><td style = \"text-align: right;\">&vellip;</td><td style = \"text-align: right;\">&vellip;</td><td style = \"text-align: right;\">&vellip;</td><td style = \"text-align: right;\">&vellip;</td><td style = \"text-align: right;\">&vellip;</td><td style = \"text-align: right;\">&vellip;</td><td style = \"text-align: right;\">&vellip;</td><td style = \"text-align: right;\">&vellip;</td><td style = \"text-align: right;\">&vellip;</td><td style = \"text-align: right;\">&vellip;</td><td style = \"text-align: right;\">&vellip;</td><td style = \"text-align: right;\">&vellip;</td><td style = \"text-align: right;\">&vellip;</td><td style = \"text-align: right;\">&vellip;</td><td style = \"text-align: right;\">&vellip;</td><td style = \"text-align: right;\">&vellip;</td><td style = \"text-align: right;\">&vellip;</td><td style = \"text-align: right;\">&vellip;</td><td style = \"text-align: right;\">&vellip;</td><td style = \"text-align: right;\">&vellip;</td><td style = \"text-align: right;\">&vellip;</td><td style = \"text-align: right;\">&vellip;</td><td style = \"text-align: right;\">&vellip;</td><td style = \"text-align: right;\">&vellip;</td><td style = \"text-align: right;\">&vellip;</td><td style = \"text-align: right;\">&vellip;</td><td style = \"text-align: right;\">&vellip;</td></tr><tr><td class = \"rowNumber\" style = \"font-weight: bold; text-align: right;\">422</td><td style = \"text-align: right;\">116986</td><td style = \"text-align: right;\">0</td><td style = \"text-align: right;\">0</td><td style = \"text-align: right;\">1</td><td style = \"text-align: right;\">0</td><td style = \"text-align: right;\">0</td><td style = \"text-align: right;\">0</td><td style = \"text-align: right;\">0</td><td style = \"text-align: right;\">0</td><td style = \"text-align: right;\">0</td><td style = \"text-align: right;\">23</td><td style = \"text-align: right;\">5</td><td style = \"text-align: right;\">0</td><td style = \"text-align: right;\">14.2</td><td style = \"text-align: right;\">1.2</td><td style = \"text-align: right;\">2.8</td><td style = \"text-align: right;\">0.429</td><td style = \"text-align: right;\">0.4</td><td style = \"text-align: right;\">1.2</td><td style = \"text-align: right;\">0.333</td><td style = \"text-align: right;\">0.8</td><td style = \"text-align: right;\">1.6</td><td style = \"text-align: right;\">0.5</td><td style = \"text-align: right;\">0.5</td><td style = \"text-align: right;\">0.2</td><td style = \"text-align: right;\">0.4</td><td style = \"text-align: right;\">0.5</td><td style = \"text-align: right;\">0.2</td><td style = \"text-align: right;\">1.0</td><td style = \"text-align: right;\">1.2</td><td style = \"text-align: right;\">0.8</td><td style = \"text-align: right;\">0.8</td><td style = \"text-align: right;\">0.4</td><td style = \"text-align: right;\">0.8</td><td style = \"text-align: right;\">1.2</td><td style = \"text-align: right;\">3.0</td><td style = \"text-align: right;\">71</td><td style = \"text-align: right;\">6.5</td><td style = \"text-align: right;\">0.504</td><td style = \"text-align: right;\">0.429</td><td style = \"text-align: right;\">0.143</td><td style = \"text-align: right;\">1.6</td><td style = \"text-align: right;\">8.4</td><td style = \"text-align: right;\">4.9</td><td style = \"text-align: right;\">7.8</td><td style = \"text-align: right;\">2.8</td><td style = \"text-align: right;\">2.9</td><td style = \"text-align: right;\">21.2</td><td style = \"text-align: right;\">11.8</td><td style = \"text-align: right;\">-0.1</td><td style = \"text-align: right;\">0.1</td><td style = \"text-align: right;\">0.0</td><td style = \"text-align: right;\">0.013</td><td style = \"text-align: right;\">-5.8</td><td style = \"text-align: right;\">1.6</td><td style = \"text-align: right;\">-4.2</td><td style = \"text-align: right;\">0.0</td></tr><tr><td class = \"rowNumber\" style = \"font-weight: bold; text-align: right;\">423</td><td style = \"text-align: right;\">116986</td><td style = \"text-align: right;\">1</td><td style = \"text-align: right;\">0</td><td style = \"text-align: right;\">0</td><td style = \"text-align: right;\">0</td><td style = \"text-align: right;\">0</td><td style = \"text-align: right;\">0</td><td style = \"text-align: right;\">0</td><td style = \"text-align: right;\">0</td><td style = \"text-align: right;\">0</td><td style = \"text-align: right;\">24</td><td style = \"text-align: right;\">7</td><td style = \"text-align: right;\">0</td><td style = \"text-align: right;\">13.6</td><td style = \"text-align: right;\">2.1</td><td style = \"text-align: right;\">3.6</td><td style = \"text-align: right;\">0.6</td><td style = \"text-align: right;\">0.9</td><td style = \"text-align: right;\">1.7</td><td style = \"text-align: right;\">0.5</td><td style = \"text-align: right;\">1.3</td><td style = \"text-align: right;\">1.9</td><td style = \"text-align: right;\">0.692</td><td style = \"text-align: right;\">0.72</td><td style = \"text-align: right;\">2.1</td><td style = \"text-align: right;\">2.3</td><td style = \"text-align: right;\">0.938</td><td style = \"text-align: right;\">0.9</td><td style = \"text-align: right;\">2.1</td><td style = \"text-align: right;\">3.0</td><td style = \"text-align: right;\">1.4</td><td style = \"text-align: right;\">0.4</td><td style = \"text-align: right;\">0.6</td><td style = \"text-align: right;\">0.7</td><td style = \"text-align: right;\">2.1</td><td style = \"text-align: right;\">7.3</td><td style = \"text-align: right;\">95</td><td style = \"text-align: right;\">22.3</td><td style = \"text-align: right;\">0.796</td><td style = \"text-align: right;\">0.48</td><td style = \"text-align: right;\">0.64</td><td style = \"text-align: right;\">7.3</td><td style = \"text-align: right;\">16.9</td><td style = \"text-align: right;\">12.3</td><td style = \"text-align: right;\">14.7</td><td style = \"text-align: right;\">1.5</td><td style = \"text-align: right;\">3.6</td><td style = \"text-align: right;\">13.5</td><td style = \"text-align: right;\">16.9</td><td style = \"text-align: right;\">0.4</td><td style = \"text-align: right;\">0.1</td><td style = \"text-align: right;\">0.5</td><td style = \"text-align: right;\">0.261</td><td style = \"text-align: right;\">2.8</td><td style = \"text-align: right;\">1.2</td><td style = \"text-align: right;\">4.0</td><td style = \"text-align: right;\">0.1</td></tr><tr><td class = \"rowNumber\" style = \"font-weight: bold; text-align: right;\">424</td><td style = \"text-align: right;\">116574</td><td style = \"text-align: right;\">0</td><td style = \"text-align: right;\">0</td><td style = \"text-align: right;\">1</td><td style = \"text-align: right;\">0</td><td style = \"text-align: right;\">0</td><td style = \"text-align: right;\">0</td><td style = \"text-align: right;\">0</td><td style = \"text-align: right;\">0</td><td style = \"text-align: right;\">0</td><td style = \"text-align: right;\">25</td><td style = \"text-align: right;\">6</td><td style = \"text-align: right;\">6</td><td style = \"text-align: right;\">31.5</td><td style = \"text-align: right;\">5.7</td><td style = \"text-align: right;\">11.3</td><td style = \"text-align: right;\">0.5</td><td style = \"text-align: right;\">2.0</td><td style = \"text-align: right;\">4.3</td><td style = \"text-align: right;\">0.462</td><td style = \"text-align: right;\">3.7</td><td style = \"text-align: right;\">7.0</td><td style = \"text-align: right;\">0.524</td><td style = \"text-align: right;\">0.588</td><td style = \"text-align: right;\">2.0</td><td style = \"text-align: right;\">2.2</td><td style = \"text-align: right;\">0.923</td><td style = \"text-align: right;\">0.3</td><td style = \"text-align: right;\">2.8</td><td style = \"text-align: right;\">3.2</td><td style = \"text-align: right;\">8.3</td><td style = \"text-align: right;\">1.0</td><td style = \"text-align: right;\">0.2</td><td style = \"text-align: right;\">1.7</td><td style = \"text-align: right;\">1.8</td><td style = \"text-align: right;\">15.3</td><td style = \"text-align: right;\">189</td><td style = \"text-align: right;\">19.4</td><td style = \"text-align: right;\">0.624</td><td style = \"text-align: right;\">0.382</td><td style = \"text-align: right;\">0.191</td><td style = \"text-align: right;\">1.2</td><td style = \"text-align: right;\">10.4</td><td style = \"text-align: right;\">5.8</td><td style = \"text-align: right;\">40.0</td><td style = \"text-align: right;\">1.5</td><td style = \"text-align: right;\">0.5</td><td style = \"text-align: right;\">11.9</td><td style = \"text-align: right;\">19.3</td><td style = \"text-align: right;\">0.6</td><td style = \"text-align: right;\">0.1</td><td style = \"text-align: right;\">0.7</td><td style = \"text-align: right;\">0.171</td><td style = \"text-align: right;\">2.1</td><td style = \"text-align: right;\">-2.1</td><td style = \"text-align: right;\">0.0</td><td style = \"text-align: right;\">0.1</td></tr><tr><td class = \"rowNumber\" style = \"font-weight: bold; text-align: right;\">425</td><td style = \"text-align: right;\">105522</td><td style = \"text-align: right;\">0</td><td style = \"text-align: right;\">1</td><td style = \"text-align: right;\">0</td><td style = \"text-align: right;\">0</td><td style = \"text-align: right;\">0</td><td style = \"text-align: right;\">0</td><td style = \"text-align: right;\">0</td><td style = \"text-align: right;\">0</td><td style = \"text-align: right;\">0</td><td style = \"text-align: right;\">26</td><td style = \"text-align: right;\">4</td><td style = \"text-align: right;\">0</td><td style = \"text-align: right;\">9.8</td><td style = \"text-align: right;\">2.0</td><td style = \"text-align: right;\">3.5</td><td style = \"text-align: right;\">0.571</td><td style = \"text-align: right;\">1.0</td><td style = \"text-align: right;\">2.3</td><td style = \"text-align: right;\">0.444</td><td style = \"text-align: right;\">1.0</td><td style = \"text-align: right;\">1.3</td><td style = \"text-align: right;\">0.8</td><td style = \"text-align: right;\">0.714</td><td style = \"text-align: right;\">0.5</td><td style = \"text-align: right;\">0.5</td><td style = \"text-align: right;\">1.0</td><td style = \"text-align: right;\">0.3</td><td style = \"text-align: right;\">1.3</td><td style = \"text-align: right;\">1.5</td><td style = \"text-align: right;\">0.8</td><td style = \"text-align: right;\">0.0</td><td style = \"text-align: right;\">0.5</td><td style = \"text-align: right;\">0.5</td><td style = \"text-align: right;\">0.8</td><td style = \"text-align: right;\">5.5</td><td style = \"text-align: right;\">39</td><td style = \"text-align: right;\">18.5</td><td style = \"text-align: right;\">0.739</td><td style = \"text-align: right;\">0.643</td><td style = \"text-align: right;\">0.143</td><td style = \"text-align: right;\">2.8</td><td style = \"text-align: right;\">13.7</td><td style = \"text-align: right;\">8.3</td><td style = \"text-align: right;\">11.4</td><td style = \"text-align: right;\">0.0</td><td style = \"text-align: right;\">4.3</td><td style = \"text-align: right;\">11.8</td><td style = \"text-align: right;\">18.1</td><td style = \"text-align: right;\">0.1</td><td style = \"text-align: right;\">0.0</td><td style = \"text-align: right;\">0.1</td><td style = \"text-align: right;\">0.16</td><td style = \"text-align: right;\">3.1</td><td style = \"text-align: right;\">0.4</td><td style = \"text-align: right;\">3.5</td><td style = \"text-align: right;\">0.1</td></tr><tr><td class = \"rowNumber\" style = \"font-weight: bold; text-align: right;\">426</td><td style = \"text-align: right;\">102910</td><td style = \"text-align: right;\">0</td><td style = \"text-align: right;\">0</td><td style = \"text-align: right;\">0</td><td style = \"text-align: right;\">0</td><td style = \"text-align: right;\">1</td><td style = \"text-align: right;\">0</td><td style = \"text-align: right;\">0</td><td style = \"text-align: right;\">0</td><td style = \"text-align: right;\">0</td><td style = \"text-align: right;\">25</td><td style = \"text-align: right;\">4</td><td style = \"text-align: right;\">0</td><td style = \"text-align: right;\">12.0</td><td style = \"text-align: right;\">1.3</td><td style = \"text-align: right;\">2.5</td><td style = \"text-align: right;\">0.5</td><td style = \"text-align: right;\">0.8</td><td style = \"text-align: right;\">1.5</td><td style = \"text-align: right;\">0.5</td><td style = \"text-align: right;\">0.5</td><td style = \"text-align: right;\">1.0</td><td style = \"text-align: right;\">0.5</td><td style = \"text-align: right;\">0.65</td><td style = \"text-align: right;\">1.0</td><td style = \"text-align: right;\">1.0</td><td style = \"text-align: right;\">1.0</td><td style = \"text-align: right;\">0.0</td><td style = \"text-align: right;\">1.3</td><td style = \"text-align: right;\">1.3</td><td style = \"text-align: right;\">1.3</td><td style = \"text-align: right;\">0.0</td><td style = \"text-align: right;\">0.3</td><td style = \"text-align: right;\">0.8</td><td style = \"text-align: right;\">1.8</td><td style = \"text-align: right;\">4.3</td><td style = \"text-align: right;\">48</td><td style = \"text-align: right;\">9.5</td><td style = \"text-align: right;\">0.723</td><td style = \"text-align: right;\">0.6</td><td style = \"text-align: right;\">0.4</td><td style = \"text-align: right;\">0.0</td><td style = \"text-align: right;\">11.3</td><td style = \"text-align: right;\">5.6</td><td style = \"text-align: right;\">13.9</td><td style = \"text-align: right;\">0.0</td><td style = \"text-align: right;\">1.8</td><td style = \"text-align: right;\">20.3</td><td style = \"text-align: right;\">12.9</td><td style = \"text-align: right;\">0.1</td><td style = \"text-align: right;\">0.0</td><td style = \"text-align: right;\">0.1</td><td style = \"text-align: right;\">0.086</td><td style = \"text-align: right;\">-3.1</td><td style = \"text-align: right;\">-0.4</td><td style = \"text-align: right;\">-3.6</td><td style = \"text-align: right;\">0.0</td></tr><tr><td class = \"rowNumber\" style = \"font-weight: bold; text-align: right;\">427</td><td style = \"text-align: right;\">99438</td><td style = \"text-align: right;\">0</td><td style = \"text-align: right;\">0</td><td style = \"text-align: right;\">1</td><td style = \"text-align: right;\">0</td><td style = \"text-align: right;\">0</td><td style = \"text-align: right;\">0</td><td style = \"text-align: right;\">0</td><td style = \"text-align: right;\">0</td><td style = \"text-align: right;\">0</td><td style = \"text-align: right;\">24</td><td style = \"text-align: right;\">7</td><td style = \"text-align: right;\">1</td><td style = \"text-align: right;\">12.4</td><td style = \"text-align: right;\">2.6</td><td style = \"text-align: right;\">5.3</td><td style = \"text-align: right;\">0.486</td><td style = \"text-align: right;\">0.9</td><td style = \"text-align: right;\">2.6</td><td style = \"text-align: right;\">0.333</td><td style = \"text-align: right;\">1.7</td><td style = \"text-align: right;\">2.7</td><td style = \"text-align: right;\">0.632</td><td style = \"text-align: right;\">0.568</td><td style = \"text-align: right;\">1.1</td><td style = \"text-align: right;\">1.3</td><td style = \"text-align: right;\">0.889</td><td style = \"text-align: right;\">0.0</td><td style = \"text-align: right;\">1.0</td><td style = \"text-align: right;\">1.0</td><td style = \"text-align: right;\">2.0</td><td style = \"text-align: right;\">0.0</td><td style = \"text-align: right;\">0.3</td><td style = \"text-align: right;\">1.7</td><td style = \"text-align: right;\">1.0</td><td style = \"text-align: right;\">7.1</td><td style = \"text-align: right;\">87</td><td style = \"text-align: right;\">11.8</td><td style = \"text-align: right;\">0.61</td><td style = \"text-align: right;\">0.486</td><td style = \"text-align: right;\">0.243</td><td style = \"text-align: right;\">0.0</td><td style = \"text-align: right;\">8.1</td><td style = \"text-align: right;\">4.2</td><td style = \"text-align: right;\">23.8</td><td style = \"text-align: right;\">0.0</td><td style = \"text-align: right;\">1.9</td><td style = \"text-align: right;\">22.7</td><td style = \"text-align: right;\">25.6</td><td style = \"text-align: right;\">0.0</td><td style = \"text-align: right;\">0.1</td><td style = \"text-align: right;\">0.1</td><td style = \"text-align: right;\">0.028</td><td style = \"text-align: right;\">-3.1</td><td style = \"text-align: right;\">-3.6</td><td style = \"text-align: right;\">-6.7</td><td style = \"text-align: right;\">-0.1</td></tr><tr><td class = \"rowNumber\" style = \"font-weight: bold; text-align: right;\">428</td><td style = \"text-align: right;\">52644</td><td style = \"text-align: right;\">0</td><td style = \"text-align: right;\">0</td><td style = \"text-align: right;\">0</td><td style = \"text-align: right;\">0</td><td style = \"text-align: right;\">0</td><td style = \"text-align: right;\">0</td><td style = \"text-align: right;\">0</td><td style = \"text-align: right;\">1</td><td style = \"text-align: right;\">0</td><td style = \"text-align: right;\">23</td><td style = \"text-align: right;\">5</td><td style = \"text-align: right;\">4</td><td style = \"text-align: right;\">25.4</td><td style = \"text-align: right;\">4.8</td><td style = \"text-align: right;\">7.8</td><td style = \"text-align: right;\">0.615</td><td style = \"text-align: right;\">0.6</td><td style = \"text-align: right;\">1.6</td><td style = \"text-align: right;\">0.375</td><td style = \"text-align: right;\">4.2</td><td style = \"text-align: right;\">6.2</td><td style = \"text-align: right;\">0.677</td><td style = \"text-align: right;\">0.654</td><td style = \"text-align: right;\">0.4</td><td style = \"text-align: right;\">0.6</td><td style = \"text-align: right;\">0.667</td><td style = \"text-align: right;\">2.0</td><td style = \"text-align: right;\">1.0</td><td style = \"text-align: right;\">3.0</td><td style = \"text-align: right;\">2.0</td><td style = \"text-align: right;\">0.6</td><td style = \"text-align: right;\">0.4</td><td style = \"text-align: right;\">0.8</td><td style = \"text-align: right;\">2.6</td><td style = \"text-align: right;\">10.6</td><td style = \"text-align: right;\">127</td><td style = \"text-align: right;\">15.5</td><td style = \"text-align: right;\">0.657</td><td style = \"text-align: right;\">0.205</td><td style = \"text-align: right;\">0.077</td><td style = \"text-align: right;\">9.0</td><td style = \"text-align: right;\">4.6</td><td style = \"text-align: right;\">6.8</td><td style = \"text-align: right;\">12.1</td><td style = \"text-align: right;\">1.2</td><td style = \"text-align: right;\">1.4</td><td style = \"text-align: right;\">9.0</td><td style = \"text-align: right;\">15.2</td><td style = \"text-align: right;\">0.3</td><td style = \"text-align: right;\">0.0</td><td style = \"text-align: right;\">0.3</td><td style = \"text-align: right;\">0.12</td><td style = \"text-align: right;\">-1.0</td><td style = \"text-align: right;\">-2.1</td><td style = \"text-align: right;\">-3.0</td><td style = \"text-align: right;\">0.0</td></tr><tr><td class = \"rowNumber\" style = \"font-weight: bold; text-align: right;\">429</td><td style = \"text-align: right;\">49719</td><td style = \"text-align: right;\">0</td><td style = \"text-align: right;\">0</td><td style = \"text-align: right;\">0</td><td style = \"text-align: right;\">0</td><td style = \"text-align: right;\">0</td><td style = \"text-align: right;\">0</td><td style = \"text-align: right;\">0</td><td style = \"text-align: right;\">1</td><td style = \"text-align: right;\">0</td><td style = \"text-align: right;\">22</td><td style = \"text-align: right;\">2</td><td style = \"text-align: right;\">0</td><td style = \"text-align: right;\">15.0</td><td style = \"text-align: right;\">2.5</td><td style = \"text-align: right;\">3.5</td><td style = \"text-align: right;\">0.714</td><td style = \"text-align: right;\">1.0</td><td style = \"text-align: right;\">1.0</td><td style = \"text-align: right;\">1.0</td><td style = \"text-align: right;\">1.5</td><td style = \"text-align: right;\">2.5</td><td style = \"text-align: right;\">0.6</td><td style = \"text-align: right;\">0.857</td><td style = \"text-align: right;\">0.5</td><td style = \"text-align: right;\">1.0</td><td style = \"text-align: right;\">0.5</td><td style = \"text-align: right;\">0.0</td><td style = \"text-align: right;\">3.0</td><td style = \"text-align: right;\">3.0</td><td style = \"text-align: right;\">0.5</td><td style = \"text-align: right;\">1.0</td><td style = \"text-align: right;\">0.0</td><td style = \"text-align: right;\">1.5</td><td style = \"text-align: right;\">1.0</td><td style = \"text-align: right;\">6.5</td><td style = \"text-align: right;\">30</td><td style = \"text-align: right;\">14.2</td><td style = \"text-align: right;\">0.825</td><td style = \"text-align: right;\">0.286</td><td style = \"text-align: right;\">0.286</td><td style = \"text-align: right;\">0.0</td><td style = \"text-align: right;\">22.7</td><td style = \"text-align: right;\">11.3</td><td style = \"text-align: right;\">5.0</td><td style = \"text-align: right;\">3.2</td><td style = \"text-align: right;\">0.0</td><td style = \"text-align: right;\">27.6</td><td style = \"text-align: right;\">15.6</td><td style = \"text-align: right;\">0.0</td><td style = \"text-align: right;\">0.0</td><td style = \"text-align: right;\">0.1</td><td style = \"text-align: right;\">0.083</td><td style = \"text-align: right;\">-2.9</td><td style = \"text-align: right;\">1.0</td><td style = \"text-align: right;\">-1.9</td><td style = \"text-align: right;\">0.0</td></tr><tr><td class = \"rowNumber\" style = \"font-weight: bold; text-align: right;\">430</td><td style = \"text-align: right;\">35096</td><td style = \"text-align: right;\">0</td><td style = \"text-align: right;\">0</td><td style = \"text-align: right;\">0</td><td style = \"text-align: right;\">0</td><td style = \"text-align: right;\">1</td><td style = \"text-align: right;\">0</td><td style = \"text-align: right;\">0</td><td style = \"text-align: right;\">0</td><td style = \"text-align: right;\">0</td><td style = \"text-align: right;\">23</td><td style = \"text-align: right;\">4</td><td style = \"text-align: right;\">0</td><td style = \"text-align: right;\">22.3</td><td style = \"text-align: right;\">1.8</td><td style = \"text-align: right;\">5.8</td><td style = \"text-align: right;\">0.304</td><td style = \"text-align: right;\">0.8</td><td style = \"text-align: right;\">3.0</td><td style = \"text-align: right;\">0.25</td><td style = \"text-align: right;\">1.0</td><td style = \"text-align: right;\">2.8</td><td style = \"text-align: right;\">0.364</td><td style = \"text-align: right;\">0.37</td><td style = \"text-align: right;\">0.0</td><td style = \"text-align: right;\">0.3</td><td style = \"text-align: right;\">0.0</td><td style = \"text-align: right;\">0.8</td><td style = \"text-align: right;\">3.0</td><td style = \"text-align: right;\">3.8</td><td style = \"text-align: right;\">1.0</td><td style = \"text-align: right;\">0.5</td><td style = \"text-align: right;\">1.3</td><td style = \"text-align: right;\">1.0</td><td style = \"text-align: right;\">2.3</td><td style = \"text-align: right;\">4.3</td><td style = \"text-align: right;\">89</td><td style = \"text-align: right;\">4.0</td><td style = \"text-align: right;\">0.363</td><td style = \"text-align: right;\">0.522</td><td style = \"text-align: right;\">0.043</td><td style = \"text-align: right;\">3.8</td><td style = \"text-align: right;\">15.6</td><td style = \"text-align: right;\">9.7</td><td style = \"text-align: right;\">5.9</td><td style = \"text-align: right;\">1.1</td><td style = \"text-align: right;\">5.0</td><td style = \"text-align: right;\">14.6</td><td style = \"text-align: right;\">13.4</td><td style = \"text-align: right;\">-0.2</td><td style = \"text-align: right;\">0.1</td><td style = \"text-align: right;\">-0.1</td><td style = \"text-align: right;\">-0.067</td><td style = \"text-align: right;\">-7.2</td><td style = \"text-align: right;\">-1.9</td><td style = \"text-align: right;\">-9.0</td><td style = \"text-align: right;\">-0.2</td></tr><tr><td class = \"rowNumber\" style = \"font-weight: bold; text-align: right;\">431</td><td style = \"text-align: right;\">32795</td><td style = \"text-align: right;\">0</td><td style = \"text-align: right;\">0</td><td style = \"text-align: right;\">0</td><td style = \"text-align: right;\">0</td><td style = \"text-align: right;\">0</td><td style = \"text-align: right;\">0</td><td style = \"text-align: right;\">0</td><td style = \"text-align: right;\">1</td><td style = \"text-align: right;\">0</td><td style = \"text-align: right;\">25</td><td style = \"text-align: right;\">5</td><td style = \"text-align: right;\">0</td><td style = \"text-align: right;\">5.6</td><td style = \"text-align: right;\">0.2</td><td style = \"text-align: right;\">1.2</td><td style = \"text-align: right;\">0.167</td><td style = \"text-align: right;\">0.2</td><td style = \"text-align: right;\">1.0</td><td style = \"text-align: right;\">0.2</td><td style = \"text-align: right;\">0.0</td><td style = \"text-align: right;\">0.2</td><td style = \"text-align: right;\">0.0</td><td style = \"text-align: right;\">0.25</td><td style = \"text-align: right;\">0.4</td><td style = \"text-align: right;\">0.4</td><td style = \"text-align: right;\">1.0</td><td style = \"text-align: right;\">0.2</td><td style = \"text-align: right;\">0.6</td><td style = \"text-align: right;\">0.8</td><td style = \"text-align: right;\">1.0</td><td style = \"text-align: right;\">0.0</td><td style = \"text-align: right;\">0.4</td><td style = \"text-align: right;\">0.2</td><td style = \"text-align: right;\">0.0</td><td style = \"text-align: right;\">1.0</td><td style = \"text-align: right;\">28</td><td style = \"text-align: right;\">9.0</td><td style = \"text-align: right;\">0.363</td><td style = \"text-align: right;\">0.833</td><td style = \"text-align: right;\">0.333</td><td style = \"text-align: right;\">3.7</td><td style = \"text-align: right;\">11.7</td><td style = \"text-align: right;\">7.6</td><td style = \"text-align: right;\">21.8</td><td style = \"text-align: right;\">0.0</td><td style = \"text-align: right;\">6.2</td><td style = \"text-align: right;\">12.7</td><td style = \"text-align: right;\">11.8</td><td style = \"text-align: right;\">0.0</td><td style = \"text-align: right;\">0.0</td><td style = \"text-align: right;\">0.0</td><td style = \"text-align: right;\">0.019</td><td style = \"text-align: right;\">-1.0</td><td style = \"text-align: right;\">0.1</td><td style = \"text-align: right;\">-0.9</td><td style = \"text-align: right;\">0.0</td></tr><tr><td class = \"rowNumber\" style = \"font-weight: bold; text-align: right;\">432</td><td style = \"text-align: right;\">32171</td><td style = \"text-align: right;\">0</td><td style = \"text-align: right;\">0</td><td style = \"text-align: right;\">0</td><td style = \"text-align: right;\">0</td><td style = \"text-align: right;\">0</td><td style = \"text-align: right;\">0</td><td style = \"text-align: right;\">0</td><td style = \"text-align: right;\">1</td><td style = \"text-align: right;\">0</td><td style = \"text-align: right;\">29</td><td style = \"text-align: right;\">3</td><td style = \"text-align: right;\">0</td><td style = \"text-align: right;\">18.7</td><td style = \"text-align: right;\">2.7</td><td style = \"text-align: right;\">7.0</td><td style = \"text-align: right;\">0.381</td><td style = \"text-align: right;\">2.0</td><td style = \"text-align: right;\">6.0</td><td style = \"text-align: right;\">0.333</td><td style = \"text-align: right;\">0.7</td><td style = \"text-align: right;\">1.0</td><td style = \"text-align: right;\">0.667</td><td style = \"text-align: right;\">0.524</td><td style = \"text-align: right;\">0.7</td><td style = \"text-align: right;\">0.7</td><td style = \"text-align: right;\">1.0</td><td style = \"text-align: right;\">0.0</td><td style = \"text-align: right;\">2.0</td><td style = \"text-align: right;\">2.0</td><td style = \"text-align: right;\">1.7</td><td style = \"text-align: right;\">0.7</td><td style = \"text-align: right;\">0.0</td><td style = \"text-align: right;\">0.0</td><td style = \"text-align: right;\">1.7</td><td style = \"text-align: right;\">8.0</td><td style = \"text-align: right;\">56</td><td style = \"text-align: right;\">11.8</td><td style = \"text-align: right;\">0.548</td><td style = \"text-align: right;\">0.857</td><td style = \"text-align: right;\">0.095</td><td style = \"text-align: right;\">0.0</td><td style = \"text-align: right;\">11.9</td><td style = \"text-align: right;\">5.9</td><td style = \"text-align: right;\">12.3</td><td style = \"text-align: right;\">1.7</td><td style = \"text-align: right;\">0.0</td><td style = \"text-align: right;\">0.0</td><td style = \"text-align: right;\">16.4</td><td style = \"text-align: right;\">0.1</td><td style = \"text-align: right;\">0.0</td><td style = \"text-align: right;\">0.1</td><td style = \"text-align: right;\">0.091</td><td style = \"text-align: right;\">-1.7</td><td style = \"text-align: right;\">-1.8</td><td style = \"text-align: right;\">-3.5</td><td style = \"text-align: right;\">0.0</td></tr><tr><td class = \"rowNumber\" style = \"font-weight: bold; text-align: right;\">433</td><td style = \"text-align: right;\">5849</td><td style = \"text-align: right;\">0</td><td style = \"text-align: right;\">1</td><td style = \"text-align: right;\">0</td><td style = \"text-align: right;\">0</td><td style = \"text-align: right;\">0</td><td style = \"text-align: right;\">0</td><td style = \"text-align: right;\">0</td><td style = \"text-align: right;\">0</td><td style = \"text-align: right;\">0</td><td style = \"text-align: right;\">23</td><td style = \"text-align: right;\">1</td><td style = \"text-align: right;\">0</td><td style = \"text-align: right;\">35.0</td><td style = \"text-align: right;\">6.0</td><td style = \"text-align: right;\">12.0</td><td style = \"text-align: right;\">0.5</td><td style = \"text-align: right;\">2.0</td><td style = \"text-align: right;\">5.0</td><td style = \"text-align: right;\">0.4</td><td style = \"text-align: right;\">4.0</td><td style = \"text-align: right;\">7.0</td><td style = \"text-align: right;\">0.571</td><td style = \"text-align: right;\">0.583</td><td style = \"text-align: right;\">2.0</td><td style = \"text-align: right;\">2.0</td><td style = \"text-align: right;\">1.0</td><td style = \"text-align: right;\">3.0</td><td style = \"text-align: right;\">6.0</td><td style = \"text-align: right;\">9.0</td><td style = \"text-align: right;\">7.0</td><td style = \"text-align: right;\">0.0</td><td style = \"text-align: right;\">1.0</td><td style = \"text-align: right;\">4.0</td><td style = \"text-align: right;\">5.0</td><td style = \"text-align: right;\">16.0</td><td style = \"text-align: right;\">35</td><td style = \"text-align: right;\">15.5</td><td style = \"text-align: right;\">0.621</td><td style = \"text-align: right;\">0.417</td><td style = \"text-align: right;\">0.167</td><td style = \"text-align: right;\">9.9</td><td style = \"text-align: right;\">18.8</td><td style = \"text-align: right;\">14.4</td><td style = \"text-align: right;\">29.0</td><td style = \"text-align: right;\">0.0</td><td style = \"text-align: right;\">2.4</td><td style = \"text-align: right;\">23.7</td><td style = \"text-align: right;\">21.4</td><td style = \"text-align: right;\">0.0</td><td style = \"text-align: right;\">0.0</td><td style = \"text-align: right;\">0.1</td><td style = \"text-align: right;\">0.106</td><td style = \"text-align: right;\">-0.6</td><td style = \"text-align: right;\">-1.4</td><td style = \"text-align: right;\">-2.0</td><td style = \"text-align: right;\">0.0</td></tr></tbody></table></div>"
      ],
      "text/latex": [
       "\\begin{tabular}{r|cccccccc}\n",
       "\t& Salary & Position\\_C & Position\\_PF & Position\\_PG & Position\\_PG-SG & Position\\_SF & Position\\_SF-PF & \\\\\n",
       "\t\\hline\n",
       "\t& Int64 & Int64 & Int64 & Int64 & Int64 & Int64 & Int64 & \\\\\n",
       "\t\\hline\n",
       "\t1 & 48070014 & 0 & 0 & 1 & 0 & 0 & 0 & $\\dots$ \\\\\n",
       "\t2 & 47345760 & 0 & 0 & 1 & 0 & 0 & 0 & $\\dots$ \\\\\n",
       "\t3 & 47080179 & 0 & 0 & 1 & 0 & 0 & 0 & $\\dots$ \\\\\n",
       "\t4 & 44474988 & 0 & 1 & 0 & 0 & 0 & 0 & $\\dots$ \\\\\n",
       "\t5 & 44119845 & 0 & 1 & 0 & 0 & 0 & 0 & $\\dots$ \\\\\n",
       "\t6 & 43279250 & 0 & 0 & 0 & 0 & 0 & 0 & $\\dots$ \\\\\n",
       "\t7 & 42492492 & 0 & 0 & 0 & 0 & 1 & 0 & $\\dots$ \\\\\n",
       "\t8 & 42492492 & 0 & 0 & 0 & 0 & 1 & 0 & $\\dots$ \\\\\n",
       "\t9 & 42492492 & 0 & 1 & 0 & 0 & 0 & 0 & $\\dots$ \\\\\n",
       "\t10 & 42492492 & 0 & 0 & 1 & 0 & 0 & 0 & $\\dots$ \\\\\n",
       "\t11 & 40600080 & 0 & 0 & 0 & 0 & 1 & 0 & $\\dots$ \\\\\n",
       "\t12 & 38917057 & 0 & 0 & 0 & 1 & 0 & 0 & $\\dots$ \\\\\n",
       "\t13 & 38172414 & 1 & 0 & 0 & 0 & 0 & 0 & $\\dots$ \\\\\n",
       "\t14 & 37984276 & 0 & 0 & 0 & 0 & 1 & 0 & $\\dots$ \\\\\n",
       "\t15 & 37980720 & 1 & 0 & 0 & 0 & 0 & 0 & $\\dots$ \\\\\n",
       "\t16 & 37653300 & 0 & 1 & 0 & 0 & 0 & 0 & $\\dots$ \\\\\n",
       "\t17 & 37633050 & 0 & 0 & 0 & 0 & 1 & 0 & $\\dots$ \\\\\n",
       "\t18 & 37281261 & 0 & 0 & 1 & 0 & 0 & 0 & $\\dots$ \\\\\n",
       "\t19 & 37096500 & 0 & 0 & 1 & 0 & 0 & 0 & $\\dots$ \\\\\n",
       "\t20 & 37096500 & 0 & 0 & 0 & 0 & 0 & 0 & $\\dots$ \\\\\n",
       "\t21 & 35448672 & 0 & 0 & 1 & 0 & 0 & 0 & $\\dots$ \\\\\n",
       "\t22 & 35448672 & 0 & 1 & 0 & 0 & 0 & 0 & $\\dots$ \\\\\n",
       "\t23 & 35096500 & 1 & 0 & 0 & 0 & 0 & 0 & $\\dots$ \\\\\n",
       "\t24 & 34319520 & 0 & 0 & 1 & 0 & 0 & 0 & $\\dots$ \\\\\n",
       "\t25 & 33833400 & 0 & 1 & 0 & 0 & 0 & 0 & $\\dots$ \\\\\n",
       "\t26 & 33833400 & 0 & 0 & 0 & 0 & 0 & 0 & $\\dots$ \\\\\n",
       "\t27 & 33616770 & 0 & 0 & 0 & 0 & 1 & 0 & $\\dots$ \\\\\n",
       "\t28 & 33616770 & 1 & 0 & 0 & 0 & 0 & 0 & $\\dots$ \\\\\n",
       "\t29 & 33333333 & 0 & 0 & 0 & 0 & 0 & 0 & $\\dots$ \\\\\n",
       "\t30 & 33000000 & 0 & 0 & 1 & 0 & 0 & 0 & $\\dots$ \\\\\n",
       "\t$\\dots$ & $\\dots$ & $\\dots$ & $\\dots$ & $\\dots$ & $\\dots$ & $\\dots$ & $\\dots$ &  \\\\\n",
       "\\end{tabular}\n"
      ],
      "text/plain": [
       "\u001b[1m433×57 DataFrame\u001b[0m\n",
       "\u001b[1m Row \u001b[0m│\u001b[1m Salary   \u001b[0m\u001b[1m Position_C \u001b[0m\u001b[1m Position_PF \u001b[0m\u001b[1m Position_PG \u001b[0m\u001b[1m Position_PG-SG \u001b[0m\u001b[1m Positio\u001b[0m ⋯\n",
       "     │\u001b[90m Int64    \u001b[0m\u001b[90m Int64      \u001b[0m\u001b[90m Int64       \u001b[0m\u001b[90m Int64       \u001b[0m\u001b[90m Int64          \u001b[0m\u001b[90m Int64  \u001b[0m ⋯\n",
       "─────┼──────────────────────────────────────────────────────────────────────────\n",
       "   1 │ 48070014           0            0            1               0          ⋯\n",
       "   2 │ 47345760           0            0            1               0\n",
       "   3 │ 47080179           0            0            1               0\n",
       "   4 │ 44474988           0            1            0               0\n",
       "   5 │ 44119845           0            1            0               0          ⋯\n",
       "   6 │ 43279250           0            0            0               0\n",
       "   7 │ 42492492           0            0            0               0\n",
       "   8 │ 42492492           0            0            0               0\n",
       "   9 │ 42492492           0            1            0               0          ⋯\n",
       "  10 │ 42492492           0            0            1               0\n",
       "  11 │ 40600080           0            0            0               0\n",
       "  ⋮  │    ⋮          ⋮            ⋮            ⋮             ⋮              ⋮  ⋱\n",
       " 424 │   116574           0            0            1               0\n",
       " 425 │   105522           0            1            0               0          ⋯\n",
       " 426 │   102910           0            0            0               0\n",
       " 427 │    99438           0            0            1               0\n",
       " 428 │    52644           0            0            0               0\n",
       " 429 │    49719           0            0            0               0          ⋯\n",
       " 430 │    35096           0            0            0               0\n",
       " 431 │    32795           0            0            0               0\n",
       " 432 │    32171           0            0            0               0\n",
       " 433 │     5849           0            1            0               0          ⋯\n",
       "\u001b[36m                                                 52 columns and 412 rows omitted\u001b[0m"
      ]
     },
     "execution_count": 254,
     "metadata": {},
     "output_type": "execute_result"
    }
   ],
   "source": [
    "data"
   ]
  },
  {
   "cell_type": "code",
   "execution_count": 255,
   "id": "1a8f5c7e-536b-46e8-9c96-ea335396a6a2",
   "metadata": {},
   "outputs": [],
   "source": [
    "rows = round(Int, .7 * nrow(data))\n",
    "sample = randperm(nrow(data))[1:rows];"
   ]
  },
  {
   "cell_type": "code",
   "execution_count": 256,
   "id": "17942e32-8c7e-4d23-9588-e960fbaa7b6e",
   "metadata": {},
   "outputs": [],
   "source": [
    "#sample = 1:floor(.7*length(dataDrop[:,1]))\n",
    "train = data[sample,:];\n",
    "test = data[Not(sample),:];"
   ]
  },
  {
   "cell_type": "code",
   "execution_count": 257,
   "id": "18ae9476-b998-49ad-80df-1ac20008b647",
   "metadata": {},
   "outputs": [],
   "source": [
    "X_train = train[:,2:end]\n",
    "y_train = train[:,1]\n",
    "X_test = test[:,2:end]\n",
    "y_test = test[:,1];"
   ]
  },
  {
   "cell_type": "code",
   "execution_count": 259,
   "id": "053170a5-38f5-4a4e-9396-8614c7d0bf81",
   "metadata": {},
   "outputs": [
    {
     "data": {
      "text/plain": [
       "9.777656676567657e6"
      ]
     },
     "execution_count": 259,
     "metadata": {},
     "output_type": "execute_result"
    }
   ],
   "source": [
    "mean(y_train)"
   ]
  },
  {
   "cell_type": "markdown",
   "id": "d918f86a-7fa5-44d6-be4a-8e0de57ac105",
   "metadata": {},
   "source": [
    "# Run some basic models"
   ]
  },
  {
   "cell_type": "markdown",
   "id": "33ff11dc-43e6-488e-8adc-64a193cd4fe6",
   "metadata": {},
   "source": [
    "### Holistic"
   ]
  },
  {
   "cell_type": "code",
   "execution_count": 260,
   "id": "bbbf146b-4c48-4023-b5c9-fc98a92f212c",
   "metadata": {},
   "outputs": [
    {
     "data": {
      "text/plain": [
       "pCor (generic function with 1 method)"
      ]
     },
     "execution_count": 260,
     "metadata": {},
     "output_type": "execute_result"
    }
   ],
   "source": [
    "# function to determine pairwise collinearities \n",
    "function pCor(threshold, X)\n",
    "    n,p = size(X)\n",
    "    temp = cor(X)\n",
    "    corPairs = Vector{Tuple{Int, Int}}()\n",
    "    for i in 1:p\n",
    "        for j in i+1:p\n",
    "            if abs(temp[i,j]) > threshold\n",
    "                push!(corPairs, (i,j))\n",
    "            end\n",
    "        end\n",
    "    end\n",
    "    return corPairs\n",
    "end"
   ]
  },
  {
   "cell_type": "code",
   "execution_count": 261,
   "id": "10980578-690c-4341-b7ec-8285b03279c9",
   "metadata": {},
   "outputs": [
    {
     "data": {
      "text/plain": [
       "newData (generic function with 1 method)"
      ]
     },
     "execution_count": 261,
     "metadata": {},
     "output_type": "execute_result"
    }
   ],
   "source": [
    "# function to create dataframe with specified transformations\n",
    "function newData(X)\n",
    "    n,p = size(X)\n",
    "    newX = X[:,1]\n",
    "    for i in 1:p\n",
    "        if i != 1\n",
    "            newX = hcat(newX, X[:,i]) # add not transformed variable first\n",
    "        end\n",
    "        newX = hcat(newX, X[:,i].^2) # add squared\n",
    "        newX = hcat(newX, broadcast(abs, X[:,i]).^.5) # add square root\n",
    "        newX = hcat(newX, broadcast(log, broadcast(abs, X[:,i]) .+ 1)) # add log + 1\n",
    "    end\n",
    "    return newX\n",
    "end"
   ]
  },
  {
   "cell_type": "code",
   "execution_count": 262,
   "id": "5a0a4939-ea3a-43c1-9bd5-0547743ccc77",
   "metadata": {},
   "outputs": [
    {
     "data": {
      "text/plain": [
       "holistic (generic function with 1 method)"
      ]
     },
     "execution_count": 262,
     "metadata": {},
     "output_type": "execute_result"
    }
   ],
   "source": [
    "using Gurobi, JuMP\n",
    "\n",
    "function holistic(y, X, lambda, threshold, k)\n",
    "    # Setting initial model\n",
    "    model = JuMP.Model(Gurobi.Optimizer)\n",
    "    n,p = size(X)\n",
    "    \n",
    "    # create the variables\n",
    "    @variable(model, betas[1:p])\n",
    "    @variable(model, a[1:p] >= 0)\n",
    "    @variable(model, z[1:p], Bin)\n",
    "\n",
    "    @objective(model, Min, sum((y[i] - sum(X[i,:].*betas))^2 for i=1:n) + lambda * sum(a[i] for i=1:p))\n",
    "\n",
    "    # for abs value for l1 norm\n",
    "    @constraint(model, [i=1:p], betas[i] <= a[i])\n",
    "    @constraint(model, [i=1:p], betas[i] >= -a[i])\n",
    "\n",
    "    # for sparsity\n",
    "    @constraint(model, [i=1:p], betas[i] <= 100*z[i])\n",
    "    @constraint(model, [i=1:p], betas[i] >= -100*z[i])\n",
    "    @constraint(model, sum(z[i] for i in 1:p) <= k)\n",
    "\n",
    "    # for group sparsity\n",
    "    for i in 0:46\n",
    "        @constraint(model, sum(z[j] for j in (4*i+1):(4*(i+1))) <= 1)\n",
    "    end\n",
    "\n",
    "    # for pairwise colinearity\n",
    "    pairs = pCor(threshold, X)\n",
    "    for pair in pairs\n",
    "        @constraint(model, z[pair[1]] + z[pair[2]] <= 1)\n",
    "    end\n",
    "        \n",
    "    optimize!(model)\n",
    "\n",
    "    return value.(betas)\n",
    "end"
   ]
  },
  {
   "cell_type": "code",
   "execution_count": 263,
   "id": "f4cb6816-46d4-4619-a2c9-35d1a81d6525",
   "metadata": {},
   "outputs": [],
   "source": [
    "newX_train = newData(X_train)\n",
    "newX_test = newData(X_test);"
   ]
  },
  {
   "cell_type": "code",
   "execution_count": 167,
   "id": "68a9594f-2d78-480d-a01d-5f3577e456e4",
   "metadata": {},
   "outputs": [
    {
     "data": {
      "text/plain": [
       "MAE (generic function with 1 method)"
      ]
     },
     "execution_count": 167,
     "metadata": {},
     "output_type": "execute_result"
    }
   ],
   "source": [
    "# function to find MSE\n",
    "function MAE(betas, y, X)\n",
    "\n",
    "    n,p = size(X)\n",
    "    \n",
    "    total = 0\n",
    "    for i in 1:n\n",
    "        temp = abs.(y[i] - sum(X[i,:].*betas))\n",
    "        total+=temp\n",
    "    end\n",
    "    return total/n\n",
    "end"
   ]
  },
  {
   "cell_type": "code",
   "execution_count": 168,
   "id": "b4cb3fc2-e23f-4611-a987-eff083391878",
   "metadata": {},
   "outputs": [
    {
     "name": "stdout",
     "output_type": "stream",
     "text": [
      "Set parameter Username\n",
      "Academic license - for non-commercial use only - expires 2024-08-22\n",
      "Gurobi Optimizer version 10.0.2 build v10.0.2rc0 (win64)\n",
      "\n",
      "CPU model: Intel(R) Core(TM) i7-8650U CPU @ 1.90GHz, instruction set [SSE2|AVX|AVX2]\n",
      "Thread count: 4 physical cores, 8 logical processors, using up to 8 threads\n",
      "\n",
      "Optimize a model with 5359 rows, 564 columns and 10998 nonzeros\n",
      "Model fingerprint: 0x6035ad20\n",
      "Model has 17766 quadratic objective terms\n",
      "Variable types: 376 continuous, 188 integer (188 binary)\n",
      "Coefficient statistics:\n",
      "  Matrix range     [1e+00, 1e+02]\n",
      "  Objective range  [1e+00, 2e+16]\n",
      "  QObjective range [2e-01, 5e+15]\n",
      "  Bounds range     [0e+00, 0e+00]\n",
      "  RHS range        [1e+00, 3e+01]\n",
      "Warning: Model contains large objective coefficients\n",
      "Warning: Model contains large quadratic objective coefficient range\n",
      "         Consider reformulating model or setting NumericFocus parameter\n",
      "         to avoid numerical issues.\n",
      "Found heuristic solution: objective 5.944248e+16\n",
      "Presolve removed 4410 rows and 0 columns\n",
      "Presolve time: 0.08s\n",
      "Presolved: 949 rows, 564 columns, 7140 nonzeros\n",
      "Presolved model has 17766 quadratic objective terms\n",
      "Variable types: 376 continuous, 188 integer (188 binary)\n",
      "\n",
      "Root relaxation: infeasible, 1088 iterations, 0.01 seconds (0.01 work units)\n",
      "\n",
      "    Nodes    |    Current Node    |     Objective Bounds      |     Work\n",
      " Expl Unexpl |  Obj  Depth IntInf | Incumbent    BestBd   Gap | It/Node Time\n",
      "\n",
      "     0     0 infeasible    0      5.9442e+16 5.9442e+16  0.00%     -    0s\n",
      "\n",
      "Explored 1 nodes (1088 simplex iterations) in 0.10 seconds (0.11 work units)\n",
      "Thread count was 8 (of 8 available processors)\n",
      "\n",
      "Solution count 1: 5.94425e+16 \n",
      "\n",
      "Optimal solution found (tolerance 1.00e-04)\n",
      "Best objective 5.944248084202e+16, best bound 5.944248084202e+16, gap 0.0000%\n",
      "\n",
      "User-callback calls 525, time in user-callback 0.00 sec\n"
     ]
    }
   ],
   "source": [
    "letsHope = holistic(y_train, newX_train, 1, .5, 30); # implement the function with lambda = 1, p = 0.5, and k = 8"
   ]
  },
  {
   "cell_type": "code",
   "execution_count": 169,
   "id": "a2743247-3f2e-4d47-b823-bd573ef1069c",
   "metadata": {},
   "outputs": [
    {
     "data": {
      "text/plain": [
       "8.839740076923076e6"
      ]
     },
     "execution_count": 169,
     "metadata": {},
     "output_type": "execute_result"
    }
   ],
   "source": [
    "MAE(letsHope, y_test, newX_test)"
   ]
  },
  {
   "cell_type": "markdown",
   "id": "4335d57c-1f32-4357-a24e-cc26d3b46662",
   "metadata": {},
   "source": [
    "### XGBoost"
   ]
  },
  {
   "cell_type": "code",
   "execution_count": 264,
   "id": "b2d4a1c2-def6-47fe-84e2-4201ea49ea46",
   "metadata": {},
   "outputs": [],
   "source": [
    "temp = IAI.XGBoostRegressor(random_seed = 1, max_categoric_levels_before_warning = 100)\n",
    "grid_xgb = IAI.GridSearch(temp, num_estimators = 50, max_depth = 1:10, criterion = :mse)\n",
    "IAI.fit!(grid_xgb, X_train, Array(y_train), validation_criterion = :mse);"
   ]
  },
  {
   "cell_type": "code",
   "execution_count": 265,
   "id": "b898e8d7-ef5b-4f82-a87a-d33b85abbfd2",
   "metadata": {},
   "outputs": [
    {
     "data": {
      "text/plain": [
       "Fitted XGBoostRegressor"
      ]
     },
     "execution_count": 265,
     "metadata": {},
     "output_type": "execute_result"
    }
   ],
   "source": [
    "XGBmodel = IAI.get_learner(grid_xgb)"
   ]
  },
  {
   "cell_type": "code",
   "execution_count": 266,
   "id": "9ab7803c-e39a-421e-9845-7fea05d3a98f",
   "metadata": {},
   "outputs": [],
   "source": [
    "y_pred = IAI.predict(XGBmodel, X_test);"
   ]
  },
  {
   "cell_type": "code",
   "execution_count": 267,
   "id": "71851bfb-cc7f-4f89-9179-3d9e8d2dfd43",
   "metadata": {},
   "outputs": [
    {
     "data": {
      "text/plain": [
       "3.973718634735577e6"
      ]
     },
     "execution_count": 267,
     "metadata": {},
     "output_type": "execute_result"
    }
   ],
   "source": [
    "n,p = size(X_test)\n",
    "\n",
    "total = 0\n",
    "for i in 1:n\n",
    "    temp = abs.(y_pred[i]- y_test[i])\n",
    "    total+=temp\n",
    "end\n",
    "total/n"
   ]
  },
  {
   "cell_type": "markdown",
   "id": "58758952-91be-4d1a-8d05-bb2b2c08c062",
   "metadata": {},
   "source": [
    "### Random Forest"
   ]
  },
  {
   "cell_type": "code",
   "execution_count": 268,
   "id": "c35687be-cb8c-4895-99db-0582a2de35d1",
   "metadata": {},
   "outputs": [],
   "source": [
    "temp = IAI.RandomForestRegressor(random_seed = 1, max_categoric_levels_before_warning = 100)\n",
    "grid_rf = IAI.GridSearch(temp, num_trees = 100, minbucket = 1:10, criterion = :mse)\n",
    "IAI.fit!(grid_rf, X_train, Array(y_train), validation_criterion = :mse);"
   ]
  },
  {
   "cell_type": "code",
   "execution_count": 269,
   "id": "05470aab-471c-4e21-9854-98a9725caeb0",
   "metadata": {},
   "outputs": [
    {
     "data": {
      "text/plain": [
       "Fitted RandomForestRegressor"
      ]
     },
     "execution_count": 269,
     "metadata": {},
     "output_type": "execute_result"
    }
   ],
   "source": [
    "RFmodel = IAI.get_learner(grid_rf)"
   ]
  },
  {
   "cell_type": "code",
   "execution_count": 270,
   "id": "cfa4dfbb-2fd4-4c81-9cd4-750e6a62185a",
   "metadata": {},
   "outputs": [],
   "source": [
    "y_pred = IAI.predict(RFmodel, X_test);"
   ]
  },
  {
   "cell_type": "code",
   "execution_count": 271,
   "id": "8f7d63a2-23ff-4af0-90d1-ade444f53f5e",
   "metadata": {},
   "outputs": [
    {
     "data": {
      "text/plain": [
       "3.71951255178295e6"
      ]
     },
     "execution_count": 271,
     "metadata": {},
     "output_type": "execute_result"
    }
   ],
   "source": [
    "n,p = size(X_test)\n",
    "\n",
    "total = 0\n",
    "for i in 1:n\n",
    "    temp = abs.(y_pred[i]- y_test[i])\n",
    "    total+=temp\n",
    "end\n",
    "total/n"
   ]
  },
  {
   "cell_type": "markdown",
   "id": "995c7b42-6ac6-41ed-ba8b-4dacf19e3c0b",
   "metadata": {},
   "source": [
    "### OCT"
   ]
  },
  {
   "cell_type": "code",
   "execution_count": null,
   "id": "66136f9a-b616-4a13-acb3-1ba7cd8906b2",
   "metadata": {},
   "outputs": [],
   "source": [
    "temp = IAI.OptimalTreeRegressor(random_seed = 1, localsearch = true, max_categoric_levels_before_warning = 1000)\n",
    "grid_OCT = IAI.GridSearch(temp, minbucket = 1:8, criterion = [:mse], max_depth = 2:6)\n",
    "IAI.fit_cv!(grid_OCT, X_train, Array(y_train), validation_criterion = :mse, n_folds=5);"
   ]
  },
  {
   "cell_type": "code",
   "execution_count": null,
   "id": "2e038032-824d-4b97-9ddf-45d3702818c0",
   "metadata": {},
   "outputs": [],
   "source": [
    "OCTmodel = IAI.get_learner(grid_OCT)"
   ]
  },
  {
   "cell_type": "code",
   "execution_count": null,
   "id": "3d6778d3-f857-476e-a220-5510f5019abd",
   "metadata": {},
   "outputs": [],
   "source": [
    "y_pred = IAI.predict(OCTmodel, X_test);"
   ]
  },
  {
   "cell_type": "code",
   "execution_count": null,
   "id": "9aa97fcf-a8db-4cbf-a7c1-e61dd6eccefc",
   "metadata": {},
   "outputs": [],
   "source": [
    "n,p = size(X_test)\n",
    "\n",
    "total = 0\n",
    "for i in 1:n\n",
    "    temp = abs.(y_pred[i]- y_test[i])\n",
    "    total+=temp\n",
    "end\n",
    "total/n"
   ]
  },
  {
   "cell_type": "code",
   "execution_count": null,
   "id": "8e93a070-c4e1-4437-b1cb-e0e71fd7bab5",
   "metadata": {},
   "outputs": [],
   "source": []
  }
 ],
 "metadata": {
  "kernelspec": {
   "display_name": "Julia (IAI) 1.9.2",
   "language": "julia",
   "name": "julia-_iai_-1.9"
  },
  "language_info": {
   "file_extension": ".jl",
   "mimetype": "application/julia",
   "name": "julia",
   "version": "1.9.2"
  }
 },
 "nbformat": 4,
 "nbformat_minor": 5
}
