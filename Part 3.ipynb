{
 "cells": [
  {
   "cell_type": "markdown",
   "id": "a4f0cae4-b071-440f-adb9-74e7ef589532",
   "metadata": {},
   "source": [
    "# Part 3"
   ]
  },
  {
   "cell_type": "markdown",
   "id": "9224252b-59a4-47da-b37d-0563fe4abf26",
   "metadata": {},
   "source": [
    "## Most Impactful Statistics via Borutashap"
   ]
  },
  {
   "cell_type": "markdown",
   "id": "0fab59ab-9cac-46e1-9554-d479b0850aa1",
   "metadata": {},
   "source": [
    "C: FG Attempted, 2Pts Attempted, 2Pt %, Avg Blk, FG %\n",
    "\n",
    "PG: FG%, 2PT%, TOV, 2PTs Attempted, Avg PTS/Assists\n",
    "\n",
    "PF: Avg Assists, Avg Free Throws Attempted, Avg 2Pts Attempted, Avg ORB, Avg 2P\n",
    "\n",
    "SF: FG%, Avg PF, Avg DRB, Avg Assists, Avg 2Pts Attempted\n",
    "\n",
    "SG: Avg FG%, Avg 2Pts Attempted, Avg 2PT%, Avg FG%, Avg FG Attempted"
   ]
  },
  {
   "cell_type": "code",
   "execution_count": 6,
   "id": "1450d384-1fa0-4fbd-a5fb-b1b0ad49e2dd",
   "metadata": {},
   "outputs": [],
   "source": [
    "using CSV, Tables, LinearAlgebra, Random, Gurobi, JuMP, DataFrames, CategoricalArrays, Statistics"
   ]
  },
  {
   "cell_type": "code",
   "execution_count": 7,
   "id": "4e40cdb0-555f-4012-8f90-2b582af96268",
   "metadata": {},
   "outputs": [],
   "source": [
    "data = CSV.read(\"OneHotData.csv\", DataFrame, pool=true)[:,2:end];"
   ]
  },
  {
   "cell_type": "code",
   "execution_count": 10,
   "id": "798f7ed4-3fae-42e9-a9b5-90792bc26181",
   "metadata": {},
   "outputs": [
    {
     "data": {
      "text/plain": [
       "2-element Vector{Any}:\n",
       "   (::Colon) (generic function with 16 methods)\n",
       " 29"
      ]
     },
     "execution_count": 10,
     "metadata": {},
     "output_type": "execute_result"
    }
   ],
   "source": [
    "FGpct = data[:,17]\n",
    "FGA = data[:,16]\n",
    "X2PA = data[:,22]\n",
    "X2Ppct = data[:,23]\n",
    "BLK = data[:,32]\n",
    "TOV = data[:,34] #Bad\n",
    "PTS = data[:,36]\n",
    "AST = [:,31]\n",
    "FTA = [:, 26]\n",
    "ORB = [:,28]\n",
    "PFA = [:,35] #Bad\n",
    "DRB = [:,29];"
   ]
  },
  {
   "cell_type": "code",
   "execution_count": 9,
   "id": "40951c75-91a0-4087-b17b-db8ddb48d840",
   "metadata": {},
   "outputs": [
    {
     "data": {
      "text/plain": [
       "433-element Vector{Int64}:\n",
       " 0\n",
       " 0\n",
       " 0\n",
       " 0\n",
       " 0\n",
       " 1\n",
       " 0\n",
       " 0\n",
       " 0\n",
       " 0\n",
       " 0\n",
       " 0\n",
       " 0\n",
       " ⋮\n",
       " 0\n",
       " 0\n",
       " 0\n",
       " 0\n",
       " 0\n",
       " 0\n",
       " 1\n",
       " 1\n",
       " 0\n",
       " 1\n",
       " 1\n",
       " 0"
      ]
     },
     "execution_count": 9,
     "metadata": {},
     "output_type": "execute_result"
    }
   ],
   "source": [
    "C = data[:,2]\n",
    "PF = data[:,3]\n",
    "PG = data[:,4]\n",
    "SF = data[:,6]\n",
    "SG = data[:, 9];"
   ]
  },
  {
   "cell_type": "code",
   "execution_count": null,
   "id": "d085dc8c-e1fc-4954-afe3-4371955ad271",
   "metadata": {},
   "outputs": [],
   "source": [
    "\n",
    "model = TeamPicker\n",
    "@variable(TeamPicker, z[1:n])\n",
    "# Minimize cost and negative stats * positions\n",
    "@objective(model, Min"
   ]
  }
 ],
 "metadata": {
  "kernelspec": {
   "display_name": "Julia (IAI) 1.9.2",
   "language": "julia",
   "name": "julia-_iai_-1.9"
  },
  "language_info": {
   "file_extension": ".jl",
   "mimetype": "application/julia",
   "name": "julia",
   "version": "1.9.2"
  }
 },
 "nbformat": 4,
 "nbformat_minor": 5
}
